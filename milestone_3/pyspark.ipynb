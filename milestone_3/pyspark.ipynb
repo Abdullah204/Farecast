{
  "cells": [
    {
      "cell_type": "markdown",
      "source": [
        "### since I'm using an M1 CPU I worked in colab"
      ],
      "metadata": {
        "id": "tR6sa-1LXMV2"
      },
      "id": "tR6sa-1LXMV2"
    },
    {
      "cell_type": "code",
      "source": [
        "!apt-get install openjdk-8-jdk-headless -qq > /dev/null\n",
        "!wget -q http://archive.apache.org/dist/spark/spark-3.1.1/spark-3.1.1-bin-hadoop3.2.tgz\n",
        "!tar xf spark-3.1.1-bin-hadoop3.2.tgz\n",
        "!pip install -q findspark"
      ],
      "metadata": {
        "id": "CVlSkPSrXE1I"
      },
      "id": "CVlSkPSrXE1I",
      "execution_count": null,
      "outputs": []
    },
    {
      "cell_type": "code",
      "source": [
        "import os\n",
        "os.environ[\"JAVA_HOME\"] = \"/usr/lib/jvm/java-8-openjdk-amd64\"\n",
        "os.environ[\"SPARK_HOME\"] = \"/content/spark-3.1.1-bin-hadoop3.2\""
      ],
      "metadata": {
        "id": "uZK0msrSXHxs"
      },
      "id": "uZK0msrSXHxs",
      "execution_count": null,
      "outputs": []
    },
    {
      "cell_type": "markdown",
      "id": "ec70f372",
      "metadata": {
        "id": "ec70f372"
      },
      "source": [
        "# Milestone 3 - Pre-processing and analysis with PySpark\n",
        "\n",
        "## Deadline - Sunday, 10th of December @11.59 pm\n",
        "\n",
        "The goal of this milestone is to preprocess the dataset 'New York yellow taxis' by performing basic data preparation and basic analysis to gain a better understanding of the data using PySpark.\n",
        "\n",
        "Use the same month and year you used for the green taxis in milestone 1. [Datasets](https://drive.google.com/drive/folders/1t8nBgbHVaA5roZY4z3RcAG1_JMYlSTqu?usp=sharing) (download the yellow taxis dataset).\n",
        "\n",
        "Important Notes:\n",
        "- You MUST use this notebook template/structure. not doing so will result in marks deduction.\n",
        "- You MUST have the cells run and output shown similar to milestone 1. I will NOT RUN YOUR NOTEBOOK.\n",
        "\n",
        "Submission guidelines: same as milestone 1.\n",
        "\n",
        "Notebook name must be same format as the file you named in miletsone 1. Just M3 instead of M1.\n",
        "\n",
        "IMPORTANT: You are only allowed to use PySpark unless explicitly told otherwise(i.e last task).\n",
        "\n",
        "Useful resource/documentation (highly recommended) - [PySpark examples](https://sparkbyexamples.com/pyspark-tutorial/)\n"
      ]
    },
    {
      "cell_type": "markdown",
      "id": "22dd9327",
      "metadata": {
        "id": "22dd9327"
      },
      "source": [
        "## Weight dist.\n",
        "- Loading the dataset : 5%\n",
        "- Basic cleaning: 30%\n",
        "\t- column renaming: 10%\n",
        "\t- detect missing: 35%\n",
        "\t- Handle missing: 35%\n",
        "\t- Check missing : 20%\n",
        "- Analyses: 30%\n",
        "- Encoding: 20%\n",
        "- Lookup table: 10%\n",
        "- Writing the cleaned and lookup table back as parquet and csv files: 5%."
      ]
    },
    {
      "cell_type": "markdown",
      "id": "373d9b0c",
      "metadata": {
        "id": "373d9b0c"
      },
      "source": [
        "# Tasks:"
      ]
    },
    {
      "cell_type": "markdown",
      "id": "dd35a7dc",
      "metadata": {
        "id": "dd35a7dc"
      },
      "source": [
        "## Load the dataset."
      ]
    },
    {
      "cell_type": "code",
      "execution_count": null,
      "id": "3efa26f4",
      "metadata": {
        "ExecuteTime": {
          "end_time": "2023-11-29T04:23:23.384409Z",
          "start_time": "2023-11-29T04:23:01.615005Z"
        },
        "id": "3efa26f4"
      },
      "outputs": [],
      "source": [
        "import findspark\n",
        "findspark.init()\n",
        "import pandas as pd\n",
        "from pyspark.sql import SparkSession\n",
        "spark = SparkSession.builder.appName(\"M3\").getOrCreate()\n",
        "sc = spark.sparkContext\n",
        "from pyspark.sql import functions as fn\n",
        "from pyspark.ml.feature import StringIndexer\n",
        "from pyspark.sql.types import *\n",
        "from pyspark.sql.functions import sum,regexp_replace,avg, col, unix_timestamp, dayofweek ,dayofmonth , weekofyear , count,when,isnan,lit,concat ,desc\n",
        "import re\n",
        "from pyspark.sql.types import StringType"
      ]
    },
    {
      "cell_type": "code",
      "source": [
        "from google.colab import drive\n",
        "drive.mount('/content/drive')"
      ],
      "metadata": {
        "colab": {
          "base_uri": "https://localhost:8080/"
        },
        "id": "t9t8f4R0Y0rA",
        "outputId": "35adeb99-cd50-4fe4-d6e9-ab32ee06cef2"
      },
      "id": "t9t8f4R0Y0rA",
      "execution_count": null,
      "outputs": [
        {
          "output_type": "stream",
          "name": "stdout",
          "text": [
            "Drive already mounted at /content/drive; to attempt to forcibly remount, call drive.mount(\"/content/drive\", force_remount=True).\n"
          ]
        }
      ]
    },
    {
      "cell_type": "code",
      "execution_count": null,
      "id": "050e3822",
      "metadata": {
        "ExecuteTime": {
          "end_time": "2023-11-29T04:23:37.863185Z",
          "start_time": "2023-11-29T04:23:23.420390Z"
        },
        "id": "050e3822"
      },
      "outputs": [],
      "source": [
        "df = spark.read.parquet(\"/content/drive/MyDrive/yellow_tripdata_2018-08.parquet\")"
      ]
    },
    {
      "cell_type": "markdown",
      "id": "f7eb86a5",
      "metadata": {
        "id": "f7eb86a5"
      },
      "source": [
        "### Preview first 20 rows."
      ]
    },
    {
      "cell_type": "code",
      "execution_count": null,
      "id": "0fa27dab",
      "metadata": {
        "ExecuteTime": {
          "end_time": "2023-11-29T04:23:48.413338Z",
          "start_time": "2023-11-29T04:23:37.882054Z"
        },
        "colab": {
          "base_uri": "https://localhost:8080/"
        },
        "id": "0fa27dab",
        "outputId": "62e438c1-4939-4e68-abd9-f491adb6aa26"
      },
      "outputs": [
        {
          "output_type": "stream",
          "name": "stdout",
          "text": [
            "-RECORD 0-------------------------------------\n",
            " Vendor                | Creative Mobile T... \n",
            " tpep_pickup_datetime  | 2018-08-01 00:44:35  \n",
            " tpep_dropoff_datetime | 2018-08-01 01:03:22  \n",
            " passenger_count       | 1.0                  \n",
            " trip_distance         | 5.6                  \n",
            " Rate_type             | Standard rate        \n",
            " store_and_fwd_flag    | N                    \n",
            " PU_Location           | Manhattan,Upper W... \n",
            " DO_Location           | Manhattan,East Vi... \n",
            " payment_type          | Credit card          \n",
            " fare_amount           | 19.0                 \n",
            " extra                 | 0.5                  \n",
            " mta_tax               | 0.5                  \n",
            " tip_amount            | 4.0                  \n",
            " tolls_amount          | 0.0                  \n",
            " improvement_surcharge | 0.3                  \n",
            " total_amount          | 24.3                 \n",
            " congestion_surcharge  | null                 \n",
            " airport_fee           | null                 \n",
            "-RECORD 1-------------------------------------\n",
            " Vendor                | Creative Mobile T... \n",
            " tpep_pickup_datetime  | 2018-08-01 00:02:19  \n",
            " tpep_dropoff_datetime | 2018-08-01 00:02:31  \n",
            " passenger_count       | 1.0                  \n",
            " trip_distance         | 0.0                  \n",
            " Rate_type             | Standard rate        \n",
            " store_and_fwd_flag    | N                    \n",
            " PU_Location           | Queens,Long Islan... \n",
            " DO_Location           | Queens,Long Islan... \n",
            " payment_type          | Cash                 \n",
            " fare_amount           | 2.5                  \n",
            " extra                 | 0.5                  \n",
            " mta_tax               | 0.5                  \n",
            " tip_amount            | 0.0                  \n",
            " tolls_amount          | 0.0                  \n",
            " improvement_surcharge | 0.3                  \n",
            " total_amount          | 3.8                  \n",
            " congestion_surcharge  | null                 \n",
            " airport_fee           | null                 \n",
            "-RECORD 2-------------------------------------\n",
            " Vendor                | Creative Mobile T... \n",
            " tpep_pickup_datetime  | 2018-08-01 00:13:25  \n",
            " tpep_dropoff_datetime | 2018-08-01 00:24:40  \n",
            " passenger_count       | 1.0                  \n",
            " trip_distance         | 2.9                  \n",
            " Rate_type             | Standard rate        \n",
            " store_and_fwd_flag    | N                    \n",
            " PU_Location           | Queens,LaGuardia ... \n",
            " DO_Location           | Queens,Astoria       \n",
            " payment_type          | Credit card          \n",
            " fare_amount           | 11.5                 \n",
            " extra                 | 0.5                  \n",
            " mta_tax               | 0.5                  \n",
            " tip_amount            | 2.55                 \n",
            " tolls_amount          | 0.0                  \n",
            " improvement_surcharge | 0.3                  \n",
            " total_amount          | 15.35                \n",
            " congestion_surcharge  | null                 \n",
            " airport_fee           | null                 \n",
            "-RECORD 3-------------------------------------\n",
            " Vendor                | Creative Mobile T... \n",
            " tpep_pickup_datetime  | 2018-08-01 00:10:37  \n",
            " tpep_dropoff_datetime | 2018-08-01 00:49:10  \n",
            " passenger_count       | 1.0                  \n",
            " trip_distance         | 8.4                  \n",
            " Rate_type             | Standard rate        \n",
            " store_and_fwd_flag    | N                    \n",
            " PU_Location           | Manhattan,TriBeCa... \n",
            " DO_Location           | Queens,Astoria       \n",
            " payment_type          | Credit card          \n",
            " fare_amount           | 30.0                 \n",
            " extra                 | 0.5                  \n",
            " mta_tax               | 0.5                  \n",
            " tip_amount            | 7.8                  \n",
            " tolls_amount          | 0.0                  \n",
            " improvement_surcharge | 0.3                  \n",
            " total_amount          | 39.1                 \n",
            " congestion_surcharge  | null                 \n",
            " airport_fee           | null                 \n",
            "-RECORD 4-------------------------------------\n",
            " Vendor                | Creative Mobile T... \n",
            " tpep_pickup_datetime  | 2018-08-01 00:02:18  \n",
            " tpep_dropoff_datetime | 2018-08-01 00:07:32  \n",
            " passenger_count       | 2.0                  \n",
            " trip_distance         | 0.7                  \n",
            " Rate_type             | Standard rate        \n",
            " store_and_fwd_flag    | N                    \n",
            " PU_Location           | Manhattan,East Vi... \n",
            " DO_Location           | Manhattan,Lower E... \n",
            " payment_type          | Credit card          \n",
            " fare_amount           | 5.5                  \n",
            " extra                 | 0.5                  \n",
            " mta_tax               | 0.5                  \n",
            " tip_amount            | 0.0                  \n",
            " tolls_amount          | 0.0                  \n",
            " improvement_surcharge | 0.3                  \n",
            " total_amount          | 6.8                  \n",
            " congestion_surcharge  | null                 \n",
            " airport_fee           | null                 \n",
            "-RECORD 5-------------------------------------\n",
            " Vendor                | Creative Mobile T... \n",
            " tpep_pickup_datetime  | 2018-08-01 00:22:51  \n",
            " tpep_dropoff_datetime | 2018-08-01 00:55:23  \n",
            " passenger_count       | 2.0                  \n",
            " trip_distance         | 6.7                  \n",
            " Rate_type             | Standard rate        \n",
            " store_and_fwd_flag    | N                    \n",
            " PU_Location           | Manhattan,Greenwi... \n",
            " DO_Location           | Queens,Astoria       \n",
            " payment_type          | Credit card          \n",
            " fare_amount           | 25.5                 \n",
            " extra                 | 0.5                  \n",
            " mta_tax               | 0.5                  \n",
            " tip_amount            | 4.02                 \n",
            " tolls_amount          | 0.0                  \n",
            " improvement_surcharge | 0.3                  \n",
            " total_amount          | 30.82                \n",
            " congestion_surcharge  | null                 \n",
            " airport_fee           | null                 \n",
            "-RECORD 6-------------------------------------\n",
            " Vendor                | Creative Mobile T... \n",
            " tpep_pickup_datetime  | 2018-08-01 00:02:52  \n",
            " tpep_dropoff_datetime | 2018-08-01 00:15:50  \n",
            " passenger_count       | 1.0                  \n",
            " trip_distance         | 4.5                  \n",
            " Rate_type             | Standard rate        \n",
            " store_and_fwd_flag    | N                    \n",
            " PU_Location           | Queens,JFK Airport   \n",
            " DO_Location           | Queens,Saint Albans  \n",
            " payment_type          | Cash                 \n",
            " fare_amount           | 14.5                 \n",
            " extra                 | 0.5                  \n",
            " mta_tax               | 0.5                  \n",
            " tip_amount            | 0.0                  \n",
            " tolls_amount          | 0.0                  \n",
            " improvement_surcharge | 0.3                  \n",
            " total_amount          | 15.8                 \n",
            " congestion_surcharge  | null                 \n",
            " airport_fee           | null                 \n",
            "-RECORD 7-------------------------------------\n",
            " Vendor                | Creative Mobile T... \n",
            " tpep_pickup_datetime  | 2018-08-01 00:57:29  \n",
            " tpep_dropoff_datetime | 2018-08-01 01:26:37  \n",
            " passenger_count       | 1.0                  \n",
            " trip_distance         | 16.8                 \n",
            " Rate_type             | JFK                  \n",
            " store_and_fwd_flag    | N                    \n",
            " PU_Location           | Queens,JFK Airport   \n",
            " DO_Location           | Manhattan,Midtown... \n",
            " payment_type          | Credit card          \n",
            " fare_amount           | 52.0                 \n",
            " extra                 | null                 \n",
            " mta_tax               | 0.5                  \n",
            " tip_amount            | 14.6                 \n",
            " tolls_amount          | 5.76                 \n",
            " improvement_surcharge | 0.3                  \n",
            " total_amount          | 73.16                \n",
            " congestion_surcharge  | null                 \n",
            " airport_fee           | null                 \n",
            "-RECORD 8-------------------------------------\n",
            " Vendor                | VeriFone Inc.        \n",
            " tpep_pickup_datetime  | 2018-08-01 00:36:51  \n",
            " tpep_dropoff_datetime | 2018-08-01 00:38:35  \n",
            " passenger_count       | 5.0                  \n",
            " trip_distance         | 0.43                 \n",
            " Rate_type             | Standard rate        \n",
            " store_and_fwd_flag    | N                    \n",
            " PU_Location           | Manhattan,Financi... \n",
            " DO_Location           | Manhattan,Financi... \n",
            " payment_type          | Credit card          \n",
            " fare_amount           | 3.5                  \n",
            " extra                 | 0.5                  \n",
            " mta_tax               | 0.5                  \n",
            " tip_amount            | 1.2                  \n",
            " tolls_amount          | 0.0                  \n",
            " improvement_surcharge | 0.3                  \n",
            " total_amount          | 6.0                  \n",
            " congestion_surcharge  | null                 \n",
            " airport_fee           | null                 \n",
            "-RECORD 9-------------------------------------\n",
            " Vendor                | Creative Mobile T... \n",
            " tpep_pickup_datetime  | 2018-08-01 00:29:32  \n",
            " tpep_dropoff_datetime | 2018-08-01 00:54:36  \n",
            " passenger_count       | 1.0                  \n",
            " trip_distance         | 5.0                  \n",
            " Rate_type             | Standard rate        \n",
            " store_and_fwd_flag    | N                    \n",
            " PU_Location           | Manhattan,Union Sq   \n",
            " DO_Location           | Queens,Astoria       \n",
            " payment_type          | Credit card          \n",
            " fare_amount           | 19.5                 \n",
            " extra                 | 0.5                  \n",
            " mta_tax               | 0.5                  \n",
            " tip_amount            | 5.2                  \n",
            " tolls_amount          | 0.0                  \n",
            " improvement_surcharge | 0.3                  \n",
            " total_amount          | 26.0                 \n",
            " congestion_surcharge  | null                 \n",
            " airport_fee           | null                 \n",
            "-RECORD 10------------------------------------\n",
            " Vendor                | VeriFone Inc.        \n",
            " tpep_pickup_datetime  | 2018-08-01 00:53:52  \n",
            " tpep_dropoff_datetime | 2018-08-01 01:05:59  \n",
            " passenger_count       | 4.0                  \n",
            " trip_distance         | 3.59                 \n",
            " Rate_type             | Standard rate        \n",
            " store_and_fwd_flag    | N                    \n",
            " PU_Location           | Manhattan,Upper W... \n",
            " DO_Location           | Manhattan,Union Sq   \n",
            " payment_type          | Cash                 \n",
            " fare_amount           | 13.0                 \n",
            " extra                 | 0.5                  \n",
            " mta_tax               | 0.5                  \n",
            " tip_amount            | 0.0                  \n",
            " tolls_amount          | 0.0                  \n",
            " improvement_surcharge | 0.3                  \n",
            " total_amount          | 14.3                 \n",
            " congestion_surcharge  | null                 \n",
            " airport_fee           | null                 \n",
            "-RECORD 11------------------------------------\n",
            " Vendor                | VeriFone Inc.        \n",
            " tpep_pickup_datetime  | 2018-08-01 00:40:54  \n",
            " tpep_dropoff_datetime | 2018-08-01 00:44:08  \n",
            " passenger_count       | 1.0                  \n",
            " trip_distance         | 0.88                 \n",
            " Rate_type             | Standard rate        \n",
            " store_and_fwd_flag    | N                    \n",
            " PU_Location           | Manhattan,Gramercy   \n",
            " DO_Location           | Manhattan,Murray ... \n",
            " payment_type          | Credit card          \n",
            " fare_amount           | 5.0                  \n",
            " extra                 | 0.5                  \n",
            " mta_tax               | 0.5                  \n",
            " tip_amount            | 1.26                 \n",
            " tolls_amount          | 0.0                  \n",
            " improvement_surcharge | 0.3                  \n",
            " total_amount          | 7.56                 \n",
            " congestion_surcharge  | null                 \n",
            " airport_fee           | null                 \n",
            "-RECORD 12------------------------------------\n",
            " Vendor                | Creative Mobile T... \n",
            " tpep_pickup_datetime  | 2018-08-01 00:56:05  \n",
            " tpep_dropoff_datetime | 2018-08-01 01:02:12  \n",
            " passenger_count       | 1.0                  \n",
            " trip_distance         | 0.9                  \n",
            " Rate_type             | Standard rate        \n",
            " store_and_fwd_flag    | N                    \n",
            " PU_Location           | Manhattan,Midtown... \n",
            " DO_Location           | Manhattan,Times S... \n",
            " payment_type          | Credit card          \n",
            " fare_amount           | 6.0                  \n",
            " extra                 | 0.5                  \n",
            " mta_tax               | 0.5                  \n",
            " tip_amount            | 1.45                 \n",
            " tolls_amount          | 0.0                  \n",
            " improvement_surcharge | 0.3                  \n",
            " total_amount          | 8.75                 \n",
            " congestion_surcharge  | null                 \n",
            " airport_fee           | null                 \n",
            "-RECORD 13------------------------------------\n",
            " Vendor                | Creative Mobile T... \n",
            " tpep_pickup_datetime  | 2018-08-01 00:17:56  \n",
            " tpep_dropoff_datetime | 2018-08-01 00:26:25  \n",
            " passenger_count       | 1.0                  \n",
            " trip_distance         | 1.4                  \n",
            " Rate_type             | Standard rate        \n",
            " store_and_fwd_flag    | N                    \n",
            " PU_Location           | Manhattan,Manhatt... \n",
            " DO_Location           | Manhattan,Upper W... \n",
            " payment_type          | Cash                 \n",
            " fare_amount           | 8.0                  \n",
            " extra                 | 0.5                  \n",
            " mta_tax               | 0.5                  \n",
            " tip_amount            | 0.0                  \n",
            " tolls_amount          | 0.0                  \n",
            " improvement_surcharge | 0.3                  \n",
            " total_amount          | 9.3                  \n",
            " congestion_surcharge  | null                 \n",
            " airport_fee           | null                 \n",
            "-RECORD 14------------------------------------\n",
            " Vendor                | Creative Mobile T... \n",
            " tpep_pickup_datetime  | 2018-08-01 00:28:18  \n",
            " tpep_dropoff_datetime | 2018-08-01 00:35:48  \n",
            " passenger_count       | 1.0                  \n",
            " trip_distance         | 2.1                  \n",
            " Rate_type             | Standard rate        \n",
            " store_and_fwd_flag    | N                    \n",
            " PU_Location           | Manhattan,Upper W... \n",
            " DO_Location           | Manhattan,Lenox H... \n",
            " payment_type          | Credit card          \n",
            " fare_amount           | 8.5                  \n",
            " extra                 | 0.5                  \n",
            " mta_tax               | 0.5                  \n",
            " tip_amount            | 1.95                 \n",
            " tolls_amount          | 0.0                  \n",
            " improvement_surcharge | 0.3                  \n",
            " total_amount          | 11.75                \n",
            " congestion_surcharge  | null                 \n",
            " airport_fee           | null                 \n",
            "-RECORD 15------------------------------------\n",
            " Vendor                | Creative Mobile T... \n",
            " tpep_pickup_datetime  | 2018-08-01 00:30:12  \n",
            " tpep_dropoff_datetime | 2018-08-01 00:38:54  \n",
            " passenger_count       | 1.0                  \n",
            " trip_distance         | 2.2                  \n",
            " Rate_type             | Standard rate        \n",
            " store_and_fwd_flag    | N                    \n",
            " PU_Location           | Manhattan,East Vi... \n",
            " DO_Location           | Manhattan,Midtown... \n",
            " payment_type          | null                 \n",
            " fare_amount           | 9.0                  \n",
            " extra                 | 0.5                  \n",
            " mta_tax               | 0.5                  \n",
            " tip_amount            | 0.0                  \n",
            " tolls_amount          | 0.0                  \n",
            " improvement_surcharge | 0.3                  \n",
            " total_amount          | 10.3                 \n",
            " congestion_surcharge  | null                 \n",
            " airport_fee           | null                 \n",
            "-RECORD 16------------------------------------\n",
            " Vendor                | Creative Mobile T... \n",
            " tpep_pickup_datetime  | 2018-08-01 00:40:10  \n",
            " tpep_dropoff_datetime | 2018-08-01 00:48:28  \n",
            " passenger_count       | 2.0                  \n",
            " trip_distance         | 2.3                  \n",
            " Rate_type             | Standard rate        \n",
            " store_and_fwd_flag    | N                    \n",
            " PU_Location           | Manhattan,Midtown... \n",
            " DO_Location           | Manhattan,Upper E... \n",
            " payment_type          | Credit card          \n",
            " fare_amount           | 9.0                  \n",
            " extra                 | 0.5                  \n",
            " mta_tax               | 0.5                  \n",
            " tip_amount            | 2.0                  \n",
            " tolls_amount          | 0.0                  \n",
            " improvement_surcharge | 0.3                  \n",
            " total_amount          | 12.3                 \n",
            " congestion_surcharge  | null                 \n",
            " airport_fee           | null                 \n",
            "-RECORD 17------------------------------------\n",
            " Vendor                | Creative Mobile T... \n",
            " tpep_pickup_datetime  | 2018-08-01 00:54:18  \n",
            " tpep_dropoff_datetime | 2018-08-01 01:08:58  \n",
            " passenger_count       | 1.0                  \n",
            " trip_distance         | 7.3                  \n",
            " Rate_type             | Standard rate        \n",
            " store_and_fwd_flag    | N                    \n",
            " PU_Location           | Manhattan,Upper E... \n",
            " DO_Location           | Manhattan,Financi... \n",
            " payment_type          | Credit card          \n",
            " fare_amount           | 22.0                 \n",
            " extra                 | 0.5                  \n",
            " mta_tax               | 0.5                  \n",
            " tip_amount            | 4.65                 \n",
            " tolls_amount          | 0.0                  \n",
            " improvement_surcharge | 0.3                  \n",
            " total_amount          | 27.95                \n",
            " congestion_surcharge  | null                 \n",
            " airport_fee           | null                 \n",
            "-RECORD 18------------------------------------\n",
            " Vendor                | VeriFone Inc.        \n",
            " tpep_pickup_datetime  | 2018-08-01 00:07:42  \n",
            " tpep_dropoff_datetime | 2018-08-01 00:26:05  \n",
            " passenger_count       | 1.0                  \n",
            " trip_distance         | 12.51                \n",
            " Rate_type             | Standard rate        \n",
            " store_and_fwd_flag    | N                    \n",
            " PU_Location           | Queens,LaGuardia ... \n",
            " DO_Location           | Brooklyn,East New... \n",
            " payment_type          | Credit card          \n",
            " fare_amount           | 34.0                 \n",
            " extra                 | 0.5                  \n",
            " mta_tax               | 0.5                  \n",
            " tip_amount            | 0.0                  \n",
            " tolls_amount          | 0.0                  \n",
            " improvement_surcharge | 0.3                  \n",
            " total_amount          | 35.3                 \n",
            " congestion_surcharge  | null                 \n",
            " airport_fee           | null                 \n",
            "-RECORD 19------------------------------------\n",
            " Vendor                | VeriFone Inc.        \n",
            " tpep_pickup_datetime  | 2018-08-01 00:39:11  \n",
            " tpep_dropoff_datetime | 2018-08-01 01:10:28  \n",
            " passenger_count       | 3.0                  \n",
            " trip_distance         | 17.37                \n",
            " Rate_type             | JFK                  \n",
            " store_and_fwd_flag    | N                    \n",
            " PU_Location           | Queens,JFK Airport   \n",
            " DO_Location           | Manhattan,Upper E... \n",
            " payment_type          | Credit card          \n",
            " fare_amount           | 52.0                 \n",
            " extra                 | null                 \n",
            " mta_tax               | 0.5                  \n",
            " tip_amount            | 12.0                 \n",
            " tolls_amount          | 0.0                  \n",
            " improvement_surcharge | 0.3                  \n",
            " total_amount          | 64.8                 \n",
            " congestion_surcharge  | null                 \n",
            " airport_fee           | null                 \n",
            "only showing top 20 rows\n",
            "\n"
          ]
        }
      ],
      "source": [
        "df.show(vertical=True)"
      ]
    },
    {
      "cell_type": "markdown",
      "id": "361aa495",
      "metadata": {
        "id": "361aa495"
      },
      "source": [
        "### How many partitions is this dataframe split into?"
      ]
    },
    {
      "cell_type": "code",
      "execution_count": null,
      "id": "c0151823",
      "metadata": {
        "ExecuteTime": {
          "end_time": "2023-11-29T04:23:49.287811Z",
          "start_time": "2023-11-29T04:23:48.423143Z"
        },
        "colab": {
          "base_uri": "https://localhost:8080/"
        },
        "id": "c0151823",
        "outputId": "0d8ee0d9-71dc-4b9a-acef-89741cc5dbaa"
      },
      "outputs": [
        {
          "output_type": "execute_result",
          "data": {
            "text/plain": [
              "2"
            ]
          },
          "metadata": {},
          "execution_count": 253
        }
      ],
      "source": [
        "df.rdd.getNumPartitions()"
      ]
    },
    {
      "cell_type": "markdown",
      "id": "7cd45fad",
      "metadata": {
        "id": "7cd45fad"
      },
      "source": [
        "## Basic cleaning"
      ]
    },
    {
      "cell_type": "markdown",
      "id": "4e30192c",
      "metadata": {
        "id": "4e30192c"
      },
      "source": [
        "### rename all columns (replacing a space with an underscore, and making it lowercase)"
      ]
    },
    {
      "cell_type": "code",
      "execution_count": null,
      "id": "1a36b9c8",
      "metadata": {
        "ExecuteTime": {
          "end_time": "2023-11-29T04:23:49.308880Z",
          "start_time": "2023-11-29T04:23:49.296150Z"
        },
        "id": "1a36b9c8"
      },
      "outputs": [],
      "source": [
        "def clean_column_name(name):\n",
        "    return name.lower().replace(\" \", \"_\")"
      ]
    },
    {
      "cell_type": "code",
      "execution_count": null,
      "id": "42d857b2",
      "metadata": {
        "ExecuteTime": {
          "end_time": "2023-11-29T04:23:49.831272Z",
          "start_time": "2023-11-29T04:23:49.322346Z"
        },
        "id": "42d857b2"
      },
      "outputs": [],
      "source": [
        "df2 = df.select([fn.col(x).alias(clean_column_name(x)) for x in df.columns])"
      ]
    },
    {
      "cell_type": "code",
      "execution_count": null,
      "id": "incorrect-empty",
      "metadata": {
        "ExecuteTime": {
          "end_time": "2023-11-29T04:23:49.866377Z",
          "start_time": "2023-11-29T04:23:49.838700Z"
        },
        "colab": {
          "base_uri": "https://localhost:8080/"
        },
        "id": "incorrect-empty",
        "outputId": "adcdfe51-a654-46cd-ec3e-f9708f659c38"
      },
      "outputs": [
        {
          "output_type": "execute_result",
          "data": {
            "text/plain": [
              "['vendor',\n",
              " 'tpep_pickup_datetime',\n",
              " 'tpep_dropoff_datetime',\n",
              " 'passenger_count',\n",
              " 'trip_distance',\n",
              " 'rate_type',\n",
              " 'store_and_fwd_flag',\n",
              " 'pu_location',\n",
              " 'do_location',\n",
              " 'payment_type',\n",
              " 'fare_amount',\n",
              " 'extra',\n",
              " 'mta_tax',\n",
              " 'tip_amount',\n",
              " 'tolls_amount',\n",
              " 'improvement_surcharge',\n",
              " 'total_amount',\n",
              " 'congestion_surcharge',\n",
              " 'airport_fee']"
            ]
          },
          "metadata": {},
          "execution_count": 256
        }
      ],
      "source": [
        "df2.columns"
      ]
    },
    {
      "cell_type": "markdown",
      "id": "8b3afbda",
      "metadata": {
        "id": "8b3afbda"
      },
      "source": [
        "### Detect and remove duplicates\n",
        "- Duplicates are trips with same pickup time,pickup location, dropoff time,drop off location and trip distance"
      ]
    },
    {
      "cell_type": "code",
      "execution_count": null,
      "id": "incomplete-tulsa",
      "metadata": {
        "ExecuteTime": {
          "end_time": "2023-11-29T04:23:49.957114Z",
          "start_time": "2023-11-29T04:23:49.874397Z"
        },
        "id": "incomplete-tulsa"
      },
      "outputs": [],
      "source": [
        "distinct_df = df2.distinct()"
      ]
    },
    {
      "cell_type": "code",
      "execution_count": null,
      "id": "continent-democrat",
      "metadata": {
        "ExecuteTime": {
          "end_time": "2023-11-29T04:23:53.030179Z",
          "start_time": "2023-11-29T04:23:49.969791Z"
        },
        "colab": {
          "base_uri": "https://localhost:8080/"
        },
        "id": "continent-democrat",
        "outputId": "c9b0cf8a-cff8-4c45-8b40-93fc5f1ea81a"
      },
      "outputs": [
        {
          "output_type": "execute_result",
          "data": {
            "text/plain": [
              "MapPartitionsRDD[1775] at coalesce at NativeMethodAccessorImpl.java:0"
            ]
          },
          "metadata": {},
          "execution_count": 258
        }
      ],
      "source": [
        "distinct_df.rdd.repartition(8)"
      ]
    },
    {
      "cell_type": "code",
      "execution_count": null,
      "id": "armed-workshop",
      "metadata": {
        "ExecuteTime": {
          "end_time": "2023-11-29T04:22:19.787577Z",
          "start_time": "2023-11-29T04:17:14.898538Z"
        },
        "colab": {
          "base_uri": "https://localhost:8080/"
        },
        "id": "armed-workshop",
        "outputId": "fa0ce963-8186-4e7d-fefb-d8666b0d079c"
      },
      "outputs": [
        {
          "output_type": "execute_result",
          "data": {
            "text/plain": [
              "7855040"
            ]
          },
          "metadata": {},
          "execution_count": 259
        }
      ],
      "source": [
        "distinct_df.count()"
      ]
    },
    {
      "cell_type": "code",
      "execution_count": null,
      "id": "tutorial-sapphire",
      "metadata": {
        "ExecuteTime": {
          "end_time": "2023-11-29T04:22:19.814155Z",
          "start_time": "2023-11-29T04:16:15.102Z"
        },
        "colab": {
          "base_uri": "https://localhost:8080/"
        },
        "id": "tutorial-sapphire",
        "outputId": "44e20304-785c-4c10-c4dd-d62dfabedfd5"
      },
      "outputs": [
        {
          "output_type": "execute_result",
          "data": {
            "text/plain": [
              "MapPartitionsRDD[1796] at coalesce at NativeMethodAccessorImpl.java:0"
            ]
          },
          "metadata": {},
          "execution_count": 260
        }
      ],
      "source": [
        "df2.rdd.repartition(8)"
      ]
    },
    {
      "cell_type": "code",
      "execution_count": null,
      "id": "nuclear-algeria",
      "metadata": {
        "ExecuteTime": {
          "end_time": "2023-11-29T04:22:19.819503Z",
          "start_time": "2023-11-29T04:16:15.103Z"
        },
        "id": "nuclear-algeria"
      },
      "outputs": [],
      "source": [
        "df2_count = df2.count()"
      ]
    },
    {
      "cell_type": "code",
      "execution_count": null,
      "id": "19a08746",
      "metadata": {
        "ExecuteTime": {
          "end_time": "2023-11-29T04:23:53.167424Z",
          "start_time": "2023-11-29T04:23:53.038848Z"
        },
        "id": "19a08746"
      },
      "outputs": [],
      "source": [
        "df3 = df2.dropDuplicates(subset=[\"tpep_pickup_datetime\" , \"tpep_dropoff_datetime\" , \"pu_location\" , \"do_location\" , \"trip_distance\"])\n"
      ]
    },
    {
      "cell_type": "markdown",
      "id": "fe15c117",
      "metadata": {
        "id": "fe15c117"
      },
      "source": [
        "### check that there are no duplicates"
      ]
    },
    {
      "cell_type": "code",
      "execution_count": null,
      "id": "intended-dryer",
      "metadata": {
        "ExecuteTime": {
          "start_time": "2023-11-29T04:16:15.106Z"
        },
        "colab": {
          "base_uri": "https://localhost:8080/"
        },
        "id": "intended-dryer",
        "outputId": "1f4aca2f-65f6-41b0-c1f3-e8eff381f89d"
      },
      "outputs": [
        {
          "output_type": "execute_result",
          "data": {
            "text/plain": [
              "MapPartitionsRDD[1819] at coalesce at NativeMethodAccessorImpl.java:0"
            ]
          },
          "metadata": {},
          "execution_count": 263
        }
      ],
      "source": [
        "df3.rdd.repartition(8)"
      ]
    },
    {
      "cell_type": "code",
      "execution_count": null,
      "id": "finished-white",
      "metadata": {
        "ExecuteTime": {
          "start_time": "2023-11-29T04:16:15.105Z"
        },
        "colab": {
          "base_uri": "https://localhost:8080/"
        },
        "id": "finished-white",
        "outputId": "176d4d27-bded-4512-9da6-b70c92ffe40e"
      },
      "outputs": [
        {
          "output_type": "execute_result",
          "data": {
            "text/plain": [
              "7849259"
            ]
          },
          "metadata": {},
          "execution_count": 264
        }
      ],
      "source": [
        "df2.select([\"tpep_pickup_datetime\" , \"tpep_dropoff_datetime\" , \"pu_location\" , \"do_location\" , \"trip_distance\"]).distinct().count()"
      ]
    },
    {
      "cell_type": "code",
      "execution_count": null,
      "id": "c169dd4d",
      "metadata": {
        "ExecuteTime": {
          "start_time": "2023-11-29T04:16:15.107Z"
        },
        "colab": {
          "base_uri": "https://localhost:8080/"
        },
        "id": "c169dd4d",
        "outputId": "47a5d7cf-4bfb-4820-e9ed-73d0f2515634"
      },
      "outputs": [
        {
          "output_type": "execute_result",
          "data": {
            "text/plain": [
              "7849259"
            ]
          },
          "metadata": {},
          "execution_count": 265
        }
      ],
      "source": [
        "df3.distinct().count()"
      ]
    },
    {
      "cell_type": "markdown",
      "id": "76a487be",
      "metadata": {
        "id": "76a487be"
      },
      "source": [
        "### Detect missing\n",
        "- Create a function that takes in the df and returns any data structrue of your choice(df/dict,list,tuple,etc) which has the name of the column and percentage of missing entries from the whole dataset.\n",
        "- Tip : storing the missing info as dict where the key is the column name and value is the percentage would be the easiest.  "
      ]
    },
    {
      "cell_type": "code",
      "execution_count": null,
      "id": "9a2291b5",
      "metadata": {
        "ExecuteTime": {
          "end_time": "2023-11-29T04:29:10.104911Z",
          "start_time": "2023-11-29T04:29:08.842304Z"
        },
        "id": "9a2291b5"
      },
      "outputs": [],
      "source": [
        "amount_missing_df = df3.select([(count(when(col(c).isNull(), c))/count(lit(1))).alias(c) for c in df.columns])\n"
      ]
    },
    {
      "cell_type": "markdown",
      "id": "0e459348",
      "metadata": {
        "id": "0e459348"
      },
      "source": [
        "### Prinout the missing info"
      ]
    },
    {
      "cell_type": "code",
      "execution_count": null,
      "id": "41010a35",
      "metadata": {
        "ExecuteTime": {
          "end_time": "2023-11-29T04:33:15.345181Z",
          "start_time": "2023-11-29T04:29:12.888777Z"
        },
        "colab": {
          "base_uri": "https://localhost:8080/"
        },
        "id": "41010a35",
        "outputId": "1e25cc4a-bb14-4f40-9171-f3f3e37867a0"
      },
      "outputs": [
        {
          "output_type": "stream",
          "name": "stdout",
          "text": [
            "-RECORD 0-------------------------------------\n",
            " Vendor                | 0.0                  \n",
            " tpep_pickup_datetime  | 0.0                  \n",
            " tpep_dropoff_datetime | 0.0                  \n",
            " passenger_count       | 0.008991167191705613 \n",
            " trip_distance         | 0.0                  \n",
            " Rate_type             | 0.0                  \n",
            " store_and_fwd_flag    | 6.580238975424304E-4 \n",
            " PU_Location           | 0.0                  \n",
            " DO_Location           | 0.0                  \n",
            " payment_type          | 0.06645595463215062  \n",
            " fare_amount           | 0.0                  \n",
            " extra                 | 0.5169430643070894   \n",
            " mta_tax               | 0.0                  \n",
            " tip_amount            | 0.0                  \n",
            " tolls_amount          | 0.0                  \n",
            " improvement_surcharge | 0.0                  \n",
            " total_amount          | 0.0                  \n",
            " congestion_surcharge  | 1.0                  \n",
            " airport_fee           | 1.0                  \n",
            "\n"
          ]
        }
      ],
      "source": [
        "amount_missing_df.show(vertical=True)\n"
      ]
    },
    {
      "cell_type": "markdown",
      "id": "ead65669",
      "metadata": {
        "id": "ead65669"
      },
      "source": [
        "### Handle missing\n",
        "- For numerical features replace with 0.\n",
        "- For categorical/strings replace with 'Unknown'\n"
      ]
    },
    {
      "cell_type": "code",
      "execution_count": null,
      "id": "3d78a72f",
      "metadata": {
        "ExecuteTime": {
          "end_time": "2023-11-29T04:33:18.368903Z",
          "start_time": "2023-11-29T04:33:18.337543Z"
        },
        "id": "3d78a72f"
      },
      "outputs": [],
      "source": [
        "numerical_cols = [col_name for col_name, data_type in df.dtypes if data_type == 'int']\n",
        "categorical_cols = [col_name for col_name, data_type in df.dtypes if not data_type == 'int']"
      ]
    },
    {
      "cell_type": "code",
      "execution_count": null,
      "id": "85e3a9c9",
      "metadata": {
        "ExecuteTime": {
          "start_time": "2023-11-29T04:33:18.944Z"
        },
        "id": "85e3a9c9"
      },
      "outputs": [],
      "source": [
        "df4 = df3.fillna(0, subset=numerical_cols)\n",
        "df5 = df4.fillna('Unknown', subset=categorical_cols)"
      ]
    },
    {
      "cell_type": "markdown",
      "id": "aa139136",
      "metadata": {
        "id": "aa139136"
      },
      "source": [
        "### check that there are no missing values"
      ]
    },
    {
      "cell_type": "code",
      "execution_count": null,
      "id": "17333948",
      "metadata": {
        "ExecuteTime": {
          "end_time": "2023-11-29T04:33:15.369642Z",
          "start_time": "2023-11-29T04:30:28.047Z"
        },
        "id": "17333948"
      },
      "outputs": [],
      "source": [
        "amount_missing_df_new = df5.select([(count(when(col(c).isNull(), c))/count(lit(1))).alias(c) for c in df.columns])"
      ]
    },
    {
      "cell_type": "code",
      "execution_count": null,
      "id": "ecological-austria",
      "metadata": {
        "ExecuteTime": {
          "end_time": "2023-11-29T04:33:15.375568Z",
          "start_time": "2023-11-29T04:30:28.497Z"
        },
        "colab": {
          "base_uri": "https://localhost:8080/"
        },
        "id": "ecological-austria",
        "outputId": "44167982-2528-443a-feed-4f0a80923d19"
      },
      "outputs": [
        {
          "output_type": "stream",
          "name": "stdout",
          "text": [
            "-RECORD 0-------------------------------------\n",
            " Vendor                | 0.0                  \n",
            " tpep_pickup_datetime  | 0.0                  \n",
            " tpep_dropoff_datetime | 0.0                  \n",
            " passenger_count       | 0.008991167191705613 \n",
            " trip_distance         | 0.0                  \n",
            " Rate_type             | 0.0                  \n",
            " store_and_fwd_flag    | 0.0                  \n",
            " PU_Location           | 0.0                  \n",
            " DO_Location           | 0.0                  \n",
            " payment_type          | 0.0                  \n",
            " fare_amount           | 0.0                  \n",
            " extra                 | 0.5169430643070894   \n",
            " mta_tax               | 0.0                  \n",
            " tip_amount            | 0.0                  \n",
            " tolls_amount          | 0.0                  \n",
            " improvement_surcharge | 0.0                  \n",
            " total_amount          | 0.0                  \n",
            " congestion_surcharge  | 0.0                  \n",
            " airport_fee           | 0.0                  \n",
            "\n"
          ]
        }
      ],
      "source": [
        "amount_missing_df_new.show(vertical = True)"
      ]
    },
    {
      "cell_type": "markdown",
      "id": "36ac1d9f",
      "metadata": {
        "id": "36ac1d9f"
      },
      "source": [
        "## Feature engineering -\n",
        "Write a function that adds the 3 following features. Use built in fucntions in PySpark (from the functions library) check lab 8, Avoid writing UDFs from scratch.\n",
        "- trip duration (the format/unit is up to you)\n",
        "- is_weekend. whether the trip occurred on Saturday or Sunday.\n",
        "- week number (relevant to the month and not year, i.e 1,2,3,4 nto 31,32,33...)"
      ]
    },
    {
      "cell_type": "code",
      "execution_count": null,
      "id": "3d3fcc55",
      "metadata": {
        "ExecuteTime": {
          "start_time": "2023-11-29T04:16:15.113Z"
        },
        "id": "3d3fcc55"
      },
      "outputs": [],
      "source": [
        "def add_trip_features(df):\n",
        "    df = df.withColumn(\"pickup_timestamp\", unix_timestamp(\"tpep_pickup_datetime\", \"yyyy-MM-dd HH:mm:ss\").cast(\"timestamp\"))\n",
        "    df = df.withColumn(\"dropoff_timestamp\", unix_timestamp(\"tpep_dropoff_datetime\", \"yyyy-MM-dd HH:mm:ss\").cast(\"timestamp\"))\n",
        "    df = df.withColumn(\"trip_duration\", (col(\"dropoff_timestamp\") - col(\"pickup_timestamp\")))\n",
        "    df = df.withColumn(\"trip_duration\", df[\"trip_duration\"].cast(StringType()))\n",
        "    df = df.withColumn(\"day_of_week\", dayofweek(\"pickup_timestamp\"))\n",
        "    df = df.withColumn(\"is_weekend\", (col(\"day_of_week\") >= 6).cast(\"int\"))\n",
        "    df = df.withColumn(\"week_number\",  (weekofyear(\"tpep_pickup_datetime\") / 4).cast(\"int\") + 1)\n",
        "    return df"
      ]
    },
    {
      "cell_type": "code",
      "execution_count": null,
      "id": "783d9bcb",
      "metadata": {
        "ExecuteTime": {
          "start_time": "2023-11-29T04:16:15.114Z"
        },
        "id": "783d9bcb"
      },
      "outputs": [],
      "source": [
        "df6 = add_trip_features(df5)"
      ]
    },
    {
      "cell_type": "markdown",
      "id": "8a927246",
      "metadata": {
        "id": "8a927246"
      },
      "source": [
        "### Preview the first 20 rows (only select the following features: pickup and droptime, and the 3 features you added)."
      ]
    },
    {
      "cell_type": "code",
      "execution_count": null,
      "id": "5e9aae0a",
      "metadata": {
        "ExecuteTime": {
          "start_time": "2023-11-29T04:16:15.115Z"
        },
        "colab": {
          "base_uri": "https://localhost:8080/"
        },
        "id": "5e9aae0a",
        "outputId": "0ae4673b-9f4c-4060-d12c-0c4e184c8ec3"
      },
      "outputs": [
        {
          "output_type": "stream",
          "name": "stdout",
          "text": [
            "+--------------------+---------------------+--------------------+----------+-----------+\n",
            "|tpep_pickup_datetime|tpep_dropoff_datetime|       trip_duration|is_weekend|week_number|\n",
            "+--------------------+---------------------+--------------------+----------+-----------+\n",
            "| 2018-08-01 00:03:35|  2018-08-01 00:07:34|3 minutes 59 seconds|         0|          8|\n",
            "| 2018-08-01 00:06:51|  2018-08-01 00:11:28|4 minutes 37 seconds|         0|          8|\n",
            "| 2018-08-01 00:04:08|  2018-08-01 00:11:43|7 minutes 35 seconds|         0|          8|\n",
            "| 2018-08-01 00:12:37|  2018-08-01 00:16:08|3 minutes 31 seconds|         0|          8|\n",
            "| 2018-08-01 00:05:42|  2018-08-01 00:16:58|11 minutes 16 sec...|         0|          8|\n",
            "| 2018-08-01 00:10:42|  2018-08-01 00:17:22|6 minutes 40 seconds|         0|          8|\n",
            "| 2018-08-01 00:07:23|  2018-08-01 00:19:13|11 minutes 50 sec...|         0|          8|\n",
            "| 2018-08-01 00:03:45|  2018-08-01 00:20:38|16 minutes 53 sec...|         0|          8|\n",
            "| 2018-08-01 00:15:05|  2018-08-01 00:21:53|6 minutes 48 seconds|         0|          8|\n",
            "| 2018-08-01 00:15:00|  2018-08-01 00:28:14|13 minutes 14 sec...|         0|          8|\n",
            "| 2018-08-01 00:12:01|  2018-08-01 00:29:40|17 minutes 39 sec...|         0|          8|\n",
            "| 2018-08-01 00:17:40|  2018-08-01 00:30:55|13 minutes 15 sec...|         0|          8|\n",
            "| 2018-08-01 00:24:31|  2018-08-01 00:31:09|6 minutes 38 seconds|         0|          8|\n",
            "| 2018-08-01 00:27:02|  2018-08-01 00:34:18|7 minutes 16 seconds|         0|          8|\n",
            "| 2018-08-01 00:28:18|  2018-08-01 00:35:48|7 minutes 30 seconds|         0|          8|\n",
            "| 2018-08-01 00:13:25|  2018-08-01 00:40:30|27 minutes 5 seconds|         0|          8|\n",
            "| 2018-08-01 00:33:13|  2018-08-01 00:41:07|7 minutes 54 seconds|         0|          8|\n",
            "| 2018-08-01 00:20:18|  2018-08-01 00:41:11|20 minutes 53 sec...|         0|          8|\n",
            "| 2018-08-01 00:23:25|  2018-08-01 00:44:44|21 minutes 19 sec...|         0|          8|\n",
            "| 2018-08-01 00:16:36|  2018-08-01 00:47:51|31 minutes 15 sec...|         0|          8|\n",
            "+--------------------+---------------------+--------------------+----------+-----------+\n",
            "only showing top 20 rows\n",
            "\n"
          ]
        }
      ],
      "source": [
        "selected_features = [\"tpep_pickup_datetime\", \"tpep_dropoff_datetime\" , \"trip_duration\" , \"is_weekend\" , \"week_number\"]\n",
        "df6.select(selected_features).show()"
      ]
    },
    {
      "cell_type": "markdown",
      "id": "a5580ea4",
      "metadata": {
        "id": "a5580ea4"
      },
      "source": [
        "## Analyses - Answer the following 5 questions (by showing the output and and a short 1-2 sentences regarding your observation/answer)\n",
        "\n",
        "MUST Use the PySpark SQL API.\n",
        "\n",
        "DO NOT explicitly write SQL queries. Doing so will result in 50% deduction (for the question). Check lab 7.\n",
        "\n",
        "You are free to add columns if it will help in answering a question and add useful info to the dataset."
      ]
    },
    {
      "cell_type": "markdown",
      "id": "9f1696d6",
      "metadata": {
        "id": "9f1696d6"
      },
      "source": [
        "### 1- What is the average fare amount per payment type"
      ]
    },
    {
      "cell_type": "code",
      "execution_count": null,
      "id": "97654b5c",
      "metadata": {
        "ExecuteTime": {
          "start_time": "2023-11-29T04:16:15.116Z"
        },
        "id": "97654b5c"
      },
      "outputs": [],
      "source": [
        "avg_fare = df6.groupBy(\"payment_type\").agg(avg(\"fare_amount\").alias(\"avg_fare\"))"
      ]
    },
    {
      "cell_type": "code",
      "execution_count": null,
      "id": "0175e1aa",
      "metadata": {
        "ExecuteTime": {
          "start_time": "2023-11-29T04:16:15.117Z"
        },
        "colab": {
          "base_uri": "https://localhost:8080/"
        },
        "id": "0175e1aa",
        "outputId": "dfc12771-3497-4a87-dba6-029e091b06fc"
      },
      "outputs": [
        {
          "output_type": "stream",
          "name": "stdout",
          "text": [
            "+------------+------------------+\n",
            "|payment_type|          avg_fare|\n",
            "+------------+------------------+\n",
            "|     Unknown|13.037452557446443|\n",
            "|        Cash|12.336380802085786|\n",
            "|     Dispute| 9.910525966641393|\n",
            "|   No charge| 50.93430596487098|\n",
            "| Credit card|13.521796426677769|\n",
            "+------------+------------------+\n",
            "\n"
          ]
        }
      ],
      "source": [
        "avg_fare.show()"
      ]
    },
    {
      "cell_type": "markdown",
      "id": "281874a7",
      "metadata": {
        "id": "281874a7"
      },
      "source": [
        "### 2- Do people tend to go on a longer trips during the weekend or weekdays?"
      ]
    },
    {
      "cell_type": "code",
      "execution_count": null,
      "id": "cc06dacb",
      "metadata": {
        "ExecuteTime": {
          "start_time": "2023-11-29T04:16:15.118Z"
        },
        "id": "cc06dacb"
      },
      "outputs": [],
      "source": [
        "average_trip_distance_by_is_weekend = df6.groupBy(\"is_weekend\").agg(avg(\"trip_distance\").alias(\"avg_trip_distance\"))"
      ]
    },
    {
      "cell_type": "code",
      "execution_count": null,
      "id": "6c06966f",
      "metadata": {
        "ExecuteTime": {
          "start_time": "2023-11-29T04:16:15.119Z"
        },
        "colab": {
          "base_uri": "https://localhost:8080/"
        },
        "id": "6c06966f",
        "outputId": "f8c5c7e1-4071-4b52-d370-03e4f13d149e"
      },
      "outputs": [
        {
          "output_type": "stream",
          "name": "stdout",
          "text": [
            "+----------+------------------+\n",
            "|is_weekend| avg_trip_distance|\n",
            "+----------+------------------+\n",
            "|         1| 3.022138163603692|\n",
            "|         0|3.0340995541490976|\n",
            "+----------+------------------+\n",
            "\n"
          ]
        }
      ],
      "source": [
        "average_trip_distance_by_is_weekend.show()"
      ]
    },
    {
      "cell_type": "markdown",
      "id": "ee349df0",
      "metadata": {
        "id": "ee349df0"
      },
      "source": [
        "### 3 - which day recorded the most trips?\n",
        "\n",
        "*   List item\n",
        "*   List item\n",
        "\n"
      ]
    },
    {
      "cell_type": "code",
      "execution_count": null,
      "id": "4427c9ee",
      "metadata": {
        "ExecuteTime": {
          "start_time": "2023-11-29T04:16:15.120Z"
        },
        "id": "4427c9ee"
      },
      "outputs": [],
      "source": [
        "df6 = df6.withColumn(\"day_of_month\", dayofmonth(\"tpep_pickup_datetime\"))\n",
        "daily_trip_counts = df6.groupBy(\"day_of_month\").count()\n",
        "max_day_count = daily_trip_counts.orderBy(col(\"count\").desc()).first()"
      ]
    },
    {
      "cell_type": "code",
      "source": [
        "max_day_count"
      ],
      "metadata": {
        "colab": {
          "base_uri": "https://localhost:8080/"
        },
        "id": "EowMaU70fids",
        "outputId": "56a35d9b-6f6c-4f24-f698-73fbe52f5f20"
      },
      "id": "EowMaU70fids",
      "execution_count": null,
      "outputs": [
        {
          "output_type": "execute_result",
          "data": {
            "text/plain": [
              "Row(day_of_month=8, count=290041)"
            ]
          },
          "metadata": {},
          "execution_count": 280
        }
      ]
    },
    {
      "cell_type": "markdown",
      "id": "f8dc3e82",
      "metadata": {
        "id": "f8dc3e82"
      },
      "source": [
        "### 4- What is the average \"total amount\" of trips with more than 2 passengers?"
      ]
    },
    {
      "cell_type": "code",
      "execution_count": null,
      "id": "4ceebb49",
      "metadata": {
        "ExecuteTime": {
          "start_time": "2023-11-29T04:16:15.122Z"
        },
        "id": "4ceebb49"
      },
      "outputs": [],
      "source": [
        "average_total_amount = df6.filter(col(\"passenger_count\") > 2).agg(avg(\"total_amount\").alias(\"avg_total_amount\")).first()[\"avg_total_amount\"]\n"
      ]
    },
    {
      "cell_type": "code",
      "execution_count": null,
      "id": "studied-williams",
      "metadata": {
        "ExecuteTime": {
          "start_time": "2023-11-29T04:16:15.123Z"
        },
        "colab": {
          "base_uri": "https://localhost:8080/"
        },
        "id": "studied-williams",
        "outputId": "803db62f-559f-4702-a6cd-e8e3f73432eb"
      },
      "outputs": [
        {
          "output_type": "execute_result",
          "data": {
            "text/plain": [
              "16.966685446889006"
            ]
          },
          "metadata": {},
          "execution_count": 282
        }
      ],
      "source": [
        "average_total_amount"
      ]
    },
    {
      "cell_type": "markdown",
      "id": "d090c1af",
      "metadata": {
        "id": "d090c1af"
      },
      "source": [
        "### 5- On average, when is it more likely that the tip is higher, when there are multiple passengers or just 1?"
      ]
    },
    {
      "cell_type": "code",
      "execution_count": null,
      "id": "56ea2ad5",
      "metadata": {
        "ExecuteTime": {
          "start_time": "2023-11-29T04:16:15.124Z"
        },
        "id": "56ea2ad5"
      },
      "outputs": [],
      "source": [
        "single_average_tip_amount = df6.filter(col(\"passenger_count\") == 1).agg(avg(\"tip_amount\").alias(\"avg_tip_amount\")).first()[\"avg_tip_amount\"]\n",
        "multi_average_tip_amount = df6.filter(col(\"passenger_count\") > 1).agg(avg(\"tip_amount\").alias(\"avg_tip_amount\")).first()[\"avg_tip_amount\"]"
      ]
    },
    {
      "cell_type": "code",
      "execution_count": null,
      "id": "c6034abd",
      "metadata": {
        "ExecuteTime": {
          "start_time": "2023-11-29T04:16:15.124Z"
        },
        "colab": {
          "base_uri": "https://localhost:8080/"
        },
        "id": "c6034abd",
        "outputId": "d0bdd458-6525-4ad0-a809-374a656e4772"
      },
      "outputs": [
        {
          "output_type": "execute_result",
          "data": {
            "text/plain": [
              "1.8278228197812318"
            ]
          },
          "metadata": {},
          "execution_count": 284
        }
      ],
      "source": [
        "single_average_tip_amount"
      ]
    },
    {
      "cell_type": "code",
      "execution_count": null,
      "id": "opened-spank",
      "metadata": {
        "ExecuteTime": {
          "start_time": "2023-11-29T04:16:15.125Z"
        },
        "colab": {
          "base_uri": "https://localhost:8080/"
        },
        "id": "opened-spank",
        "outputId": "55e37290-4572-48e3-d662-b999918f33da"
      },
      "outputs": [
        {
          "output_type": "execute_result",
          "data": {
            "text/plain": [
              "1.8062610705652205"
            ]
          },
          "metadata": {},
          "execution_count": 285
        }
      ],
      "source": [
        "multi_average_tip_amount"
      ]
    },
    {
      "cell_type": "markdown",
      "id": "ee83fe0b",
      "metadata": {
        "id": "ee83fe0b"
      },
      "source": [
        "### 6- What is the most frequent route on the weekend."
      ]
    },
    {
      "cell_type": "code",
      "execution_count": null,
      "id": "448ae113",
      "metadata": {
        "ExecuteTime": {
          "start_time": "2023-11-29T04:16:15.126Z"
        },
        "id": "448ae113"
      },
      "outputs": [],
      "source": [
        "df7 = df6.withColumn(\"route\", concat(col(\"pu_location\"), lit(\"+\"), col(\"do_location\")))\n"
      ]
    },
    {
      "cell_type": "code",
      "execution_count": null,
      "id": "abstract-commander",
      "metadata": {
        "ExecuteTime": {
          "start_time": "2023-11-29T04:16:15.127Z"
        },
        "id": "abstract-commander"
      },
      "outputs": [],
      "source": [
        "weekend_trips_by_route = df7.filter(col(\"is_weekend\") == 1).groupBy(\"route\").count()"
      ]
    },
    {
      "cell_type": "code",
      "execution_count": null,
      "id": "211d3ba3",
      "metadata": {
        "ExecuteTime": {
          "start_time": "2023-11-29T04:16:15.128Z"
        },
        "id": "211d3ba3"
      },
      "outputs": [],
      "source": [
        "most_frequent = weekend_trips_by_route.orderBy(desc(\"count\")).first()[\"route\"]"
      ]
    },
    {
      "cell_type": "code",
      "execution_count": null,
      "id": "noble-impossible",
      "metadata": {
        "ExecuteTime": {
          "start_time": "2023-11-29T04:16:15.129Z"
        },
        "colab": {
          "base_uri": "https://localhost:8080/",
          "height": 35
        },
        "id": "noble-impossible",
        "outputId": "963a3f13-902b-4085-df49-3fec16aee46e"
      },
      "outputs": [
        {
          "output_type": "execute_result",
          "data": {
            "text/plain": [
              "'Unknown,NV+Unknown,NV'"
            ],
            "application/vnd.google.colaboratory.intrinsic+json": {
              "type": "string"
            }
          },
          "metadata": {},
          "execution_count": 289
        }
      ],
      "source": [
        "most_frequent"
      ]
    },
    {
      "cell_type": "markdown",
      "id": "dfd702ec",
      "metadata": {
        "id": "dfd702ec"
      },
      "source": [
        "## Encoding\n",
        "- Label encode all categorical fetaures.\n",
        "- Create a lookup table for these label encoded features. You can use the same format/example as the lookup table in Milestone 1 description.\n",
        "\n",
        "(You are allowed to store and manipulate the lookup table as a pandas dataframe, it does not have to be a PySpark df).\n",
        "- Remove the original unencoded categorical features from the df after encoding."
      ]
    },
    {
      "cell_type": "code",
      "execution_count": null,
      "id": "cc07c545",
      "metadata": {
        "ExecuteTime": {
          "start_time": "2023-11-29T04:16:15.129Z"
        },
        "id": "cc07c545"
      },
      "outputs": [],
      "source": [
        " categorical_columns = [item[0] for item in df2.dtypes if item[1].startswith('string')]"
      ]
    },
    {
      "cell_type": "code",
      "source": [
        "categorical_columns"
      ],
      "metadata": {
        "colab": {
          "base_uri": "https://localhost:8080/"
        },
        "id": "9tHmaxiqj-9s",
        "outputId": "61d58e7c-ad45-4a58-95e7-72180705cfdb"
      },
      "id": "9tHmaxiqj-9s",
      "execution_count": null,
      "outputs": [
        {
          "output_type": "execute_result",
          "data": {
            "text/plain": [
              "['vendor',\n",
              " 'rate_type',\n",
              " 'store_and_fwd_flag',\n",
              " 'pu_location',\n",
              " 'do_location',\n",
              " 'payment_type']"
            ]
          },
          "metadata": {},
          "execution_count": 291
        }
      ]
    },
    {
      "cell_type": "code",
      "execution_count": null,
      "id": "0177519e",
      "metadata": {
        "ExecuteTime": {
          "start_time": "2023-11-29T04:16:15.130Z"
        },
        "id": "0177519e"
      },
      "outputs": [],
      "source": [
        "unique_values_dict = pd.DataFrame(columns=categorical_columns)\n",
        "for column in categorical_columns:\n",
        "    string_indexer = StringIndexer(inputCol=column, outputCol=f'{column}_label')\n",
        "    df7 = string_indexer.fit(df7).transform(df7)\n",
        "    unique_values = df7.select(column, f'{column}_label').distinct().toPandas()\n",
        "    unique_values[\"feature_name\"] = column\n",
        "    unique_values_dict = pd.concat([unique_values_dict, unique_values], ignore_index=True)\n",
        "    df7 = df7.drop(column)\n"
      ]
    },
    {
      "cell_type": "code",
      "source": [
        "unique_values_dict"
      ],
      "metadata": {
        "colab": {
          "base_uri": "https://localhost:8080/",
          "height": 513
        },
        "id": "Xtwlc1rZLcgi",
        "outputId": "ff5d947f-9538-4b09-fa8f-6991cd5e6ad9"
      },
      "id": "Xtwlc1rZLcgi",
      "execution_count": null,
      "outputs": [
        {
          "output_type": "execute_result",
          "data": {
            "text/plain": [
              "                                vendor      rate_type store_and_fwd_flag  \\\n",
              "0    Creative Mobile Technologies, LLC            NaN                NaN   \n",
              "1                        VeriFone Inc.            NaN                NaN   \n",
              "2                              Unknown            NaN                NaN   \n",
              "3                                  NaN            JFK                NaN   \n",
              "4                                  NaN  Standard rate                NaN   \n",
              "..                                 ...            ...                ...   \n",
              "532                                NaN            NaN                NaN   \n",
              "533                                NaN            NaN                NaN   \n",
              "534                                NaN            NaN                NaN   \n",
              "535                                NaN            NaN                NaN   \n",
              "536                                NaN            NaN                NaN   \n",
              "\n",
              "    pu_location do_location payment_type  vendor_label  feature_name  \\\n",
              "0           NaN         NaN          NaN           1.0        vendor   \n",
              "1           NaN         NaN          NaN           0.0        vendor   \n",
              "2           NaN         NaN          NaN           2.0        vendor   \n",
              "3           NaN         NaN          NaN           NaN     rate_type   \n",
              "4           NaN         NaN          NaN           NaN     rate_type   \n",
              "..          ...         ...          ...           ...           ...   \n",
              "532         NaN         NaN  Credit card           NaN  payment_type   \n",
              "533         NaN         NaN         Cash           NaN  payment_type   \n",
              "534         NaN         NaN      Dispute           NaN  payment_type   \n",
              "535         NaN         NaN      Unknown           NaN  payment_type   \n",
              "536         NaN         NaN    No charge           NaN  payment_type   \n",
              "\n",
              "     rate_type_label  store_and_fwd_flag_label  pu_location_label  \\\n",
              "0                NaN                       NaN                NaN   \n",
              "1                NaN                       NaN                NaN   \n",
              "2                NaN                       NaN                NaN   \n",
              "3                1.0                       NaN                NaN   \n",
              "4                0.0                       NaN                NaN   \n",
              "..               ...                       ...                ...   \n",
              "532              NaN                       NaN                NaN   \n",
              "533              NaN                       NaN                NaN   \n",
              "534              NaN                       NaN                NaN   \n",
              "535              NaN                       NaN                NaN   \n",
              "536              NaN                       NaN                NaN   \n",
              "\n",
              "     do_location_label  payment_type_label  \n",
              "0                  NaN                 NaN  \n",
              "1                  NaN                 NaN  \n",
              "2                  NaN                 NaN  \n",
              "3                  NaN                 NaN  \n",
              "4                  NaN                 NaN  \n",
              "..                 ...                 ...  \n",
              "532                NaN                 0.0  \n",
              "533                NaN                 1.0  \n",
              "534                NaN                 4.0  \n",
              "535                NaN                 2.0  \n",
              "536                NaN                 3.0  \n",
              "\n",
              "[537 rows x 13 columns]"
            ],
            "text/html": [
              "\n",
              "  <div id=\"df-b8bee837-76fe-4789-b236-73e942371fe4\" class=\"colab-df-container\">\n",
              "    <div>\n",
              "<style scoped>\n",
              "    .dataframe tbody tr th:only-of-type {\n",
              "        vertical-align: middle;\n",
              "    }\n",
              "\n",
              "    .dataframe tbody tr th {\n",
              "        vertical-align: top;\n",
              "    }\n",
              "\n",
              "    .dataframe thead th {\n",
              "        text-align: right;\n",
              "    }\n",
              "</style>\n",
              "<table border=\"1\" class=\"dataframe\">\n",
              "  <thead>\n",
              "    <tr style=\"text-align: right;\">\n",
              "      <th></th>\n",
              "      <th>vendor</th>\n",
              "      <th>rate_type</th>\n",
              "      <th>store_and_fwd_flag</th>\n",
              "      <th>pu_location</th>\n",
              "      <th>do_location</th>\n",
              "      <th>payment_type</th>\n",
              "      <th>vendor_label</th>\n",
              "      <th>feature_name</th>\n",
              "      <th>rate_type_label</th>\n",
              "      <th>store_and_fwd_flag_label</th>\n",
              "      <th>pu_location_label</th>\n",
              "      <th>do_location_label</th>\n",
              "      <th>payment_type_label</th>\n",
              "    </tr>\n",
              "  </thead>\n",
              "  <tbody>\n",
              "    <tr>\n",
              "      <th>0</th>\n",
              "      <td>Creative Mobile Technologies, LLC</td>\n",
              "      <td>NaN</td>\n",
              "      <td>NaN</td>\n",
              "      <td>NaN</td>\n",
              "      <td>NaN</td>\n",
              "      <td>NaN</td>\n",
              "      <td>1.0</td>\n",
              "      <td>vendor</td>\n",
              "      <td>NaN</td>\n",
              "      <td>NaN</td>\n",
              "      <td>NaN</td>\n",
              "      <td>NaN</td>\n",
              "      <td>NaN</td>\n",
              "    </tr>\n",
              "    <tr>\n",
              "      <th>1</th>\n",
              "      <td>VeriFone Inc.</td>\n",
              "      <td>NaN</td>\n",
              "      <td>NaN</td>\n",
              "      <td>NaN</td>\n",
              "      <td>NaN</td>\n",
              "      <td>NaN</td>\n",
              "      <td>0.0</td>\n",
              "      <td>vendor</td>\n",
              "      <td>NaN</td>\n",
              "      <td>NaN</td>\n",
              "      <td>NaN</td>\n",
              "      <td>NaN</td>\n",
              "      <td>NaN</td>\n",
              "    </tr>\n",
              "    <tr>\n",
              "      <th>2</th>\n",
              "      <td>Unknown</td>\n",
              "      <td>NaN</td>\n",
              "      <td>NaN</td>\n",
              "      <td>NaN</td>\n",
              "      <td>NaN</td>\n",
              "      <td>NaN</td>\n",
              "      <td>2.0</td>\n",
              "      <td>vendor</td>\n",
              "      <td>NaN</td>\n",
              "      <td>NaN</td>\n",
              "      <td>NaN</td>\n",
              "      <td>NaN</td>\n",
              "      <td>NaN</td>\n",
              "    </tr>\n",
              "    <tr>\n",
              "      <th>3</th>\n",
              "      <td>NaN</td>\n",
              "      <td>JFK</td>\n",
              "      <td>NaN</td>\n",
              "      <td>NaN</td>\n",
              "      <td>NaN</td>\n",
              "      <td>NaN</td>\n",
              "      <td>NaN</td>\n",
              "      <td>rate_type</td>\n",
              "      <td>1.0</td>\n",
              "      <td>NaN</td>\n",
              "      <td>NaN</td>\n",
              "      <td>NaN</td>\n",
              "      <td>NaN</td>\n",
              "    </tr>\n",
              "    <tr>\n",
              "      <th>4</th>\n",
              "      <td>NaN</td>\n",
              "      <td>Standard rate</td>\n",
              "      <td>NaN</td>\n",
              "      <td>NaN</td>\n",
              "      <td>NaN</td>\n",
              "      <td>NaN</td>\n",
              "      <td>NaN</td>\n",
              "      <td>rate_type</td>\n",
              "      <td>0.0</td>\n",
              "      <td>NaN</td>\n",
              "      <td>NaN</td>\n",
              "      <td>NaN</td>\n",
              "      <td>NaN</td>\n",
              "    </tr>\n",
              "    <tr>\n",
              "      <th>...</th>\n",
              "      <td>...</td>\n",
              "      <td>...</td>\n",
              "      <td>...</td>\n",
              "      <td>...</td>\n",
              "      <td>...</td>\n",
              "      <td>...</td>\n",
              "      <td>...</td>\n",
              "      <td>...</td>\n",
              "      <td>...</td>\n",
              "      <td>...</td>\n",
              "      <td>...</td>\n",
              "      <td>...</td>\n",
              "      <td>...</td>\n",
              "    </tr>\n",
              "    <tr>\n",
              "      <th>532</th>\n",
              "      <td>NaN</td>\n",
              "      <td>NaN</td>\n",
              "      <td>NaN</td>\n",
              "      <td>NaN</td>\n",
              "      <td>NaN</td>\n",
              "      <td>Credit card</td>\n",
              "      <td>NaN</td>\n",
              "      <td>payment_type</td>\n",
              "      <td>NaN</td>\n",
              "      <td>NaN</td>\n",
              "      <td>NaN</td>\n",
              "      <td>NaN</td>\n",
              "      <td>0.0</td>\n",
              "    </tr>\n",
              "    <tr>\n",
              "      <th>533</th>\n",
              "      <td>NaN</td>\n",
              "      <td>NaN</td>\n",
              "      <td>NaN</td>\n",
              "      <td>NaN</td>\n",
              "      <td>NaN</td>\n",
              "      <td>Cash</td>\n",
              "      <td>NaN</td>\n",
              "      <td>payment_type</td>\n",
              "      <td>NaN</td>\n",
              "      <td>NaN</td>\n",
              "      <td>NaN</td>\n",
              "      <td>NaN</td>\n",
              "      <td>1.0</td>\n",
              "    </tr>\n",
              "    <tr>\n",
              "      <th>534</th>\n",
              "      <td>NaN</td>\n",
              "      <td>NaN</td>\n",
              "      <td>NaN</td>\n",
              "      <td>NaN</td>\n",
              "      <td>NaN</td>\n",
              "      <td>Dispute</td>\n",
              "      <td>NaN</td>\n",
              "      <td>payment_type</td>\n",
              "      <td>NaN</td>\n",
              "      <td>NaN</td>\n",
              "      <td>NaN</td>\n",
              "      <td>NaN</td>\n",
              "      <td>4.0</td>\n",
              "    </tr>\n",
              "    <tr>\n",
              "      <th>535</th>\n",
              "      <td>NaN</td>\n",
              "      <td>NaN</td>\n",
              "      <td>NaN</td>\n",
              "      <td>NaN</td>\n",
              "      <td>NaN</td>\n",
              "      <td>Unknown</td>\n",
              "      <td>NaN</td>\n",
              "      <td>payment_type</td>\n",
              "      <td>NaN</td>\n",
              "      <td>NaN</td>\n",
              "      <td>NaN</td>\n",
              "      <td>NaN</td>\n",
              "      <td>2.0</td>\n",
              "    </tr>\n",
              "    <tr>\n",
              "      <th>536</th>\n",
              "      <td>NaN</td>\n",
              "      <td>NaN</td>\n",
              "      <td>NaN</td>\n",
              "      <td>NaN</td>\n",
              "      <td>NaN</td>\n",
              "      <td>No charge</td>\n",
              "      <td>NaN</td>\n",
              "      <td>payment_type</td>\n",
              "      <td>NaN</td>\n",
              "      <td>NaN</td>\n",
              "      <td>NaN</td>\n",
              "      <td>NaN</td>\n",
              "      <td>3.0</td>\n",
              "    </tr>\n",
              "  </tbody>\n",
              "</table>\n",
              "<p>537 rows × 13 columns</p>\n",
              "</div>\n",
              "    <div class=\"colab-df-buttons\">\n",
              "\n",
              "  <div class=\"colab-df-container\">\n",
              "    <button class=\"colab-df-convert\" onclick=\"convertToInteractive('df-b8bee837-76fe-4789-b236-73e942371fe4')\"\n",
              "            title=\"Convert this dataframe to an interactive table.\"\n",
              "            style=\"display:none;\">\n",
              "\n",
              "  <svg xmlns=\"http://www.w3.org/2000/svg\" height=\"24px\" viewBox=\"0 -960 960 960\">\n",
              "    <path d=\"M120-120v-720h720v720H120Zm60-500h600v-160H180v160Zm220 220h160v-160H400v160Zm0 220h160v-160H400v160ZM180-400h160v-160H180v160Zm440 0h160v-160H620v160ZM180-180h160v-160H180v160Zm440 0h160v-160H620v160Z\"/>\n",
              "  </svg>\n",
              "    </button>\n",
              "\n",
              "  <style>\n",
              "    .colab-df-container {\n",
              "      display:flex;\n",
              "      gap: 12px;\n",
              "    }\n",
              "\n",
              "    .colab-df-convert {\n",
              "      background-color: #E8F0FE;\n",
              "      border: none;\n",
              "      border-radius: 50%;\n",
              "      cursor: pointer;\n",
              "      display: none;\n",
              "      fill: #1967D2;\n",
              "      height: 32px;\n",
              "      padding: 0 0 0 0;\n",
              "      width: 32px;\n",
              "    }\n",
              "\n",
              "    .colab-df-convert:hover {\n",
              "      background-color: #E2EBFA;\n",
              "      box-shadow: 0px 1px 2px rgba(60, 64, 67, 0.3), 0px 1px 3px 1px rgba(60, 64, 67, 0.15);\n",
              "      fill: #174EA6;\n",
              "    }\n",
              "\n",
              "    .colab-df-buttons div {\n",
              "      margin-bottom: 4px;\n",
              "    }\n",
              "\n",
              "    [theme=dark] .colab-df-convert {\n",
              "      background-color: #3B4455;\n",
              "      fill: #D2E3FC;\n",
              "    }\n",
              "\n",
              "    [theme=dark] .colab-df-convert:hover {\n",
              "      background-color: #434B5C;\n",
              "      box-shadow: 0px 1px 3px 1px rgba(0, 0, 0, 0.15);\n",
              "      filter: drop-shadow(0px 1px 2px rgba(0, 0, 0, 0.3));\n",
              "      fill: #FFFFFF;\n",
              "    }\n",
              "  </style>\n",
              "\n",
              "    <script>\n",
              "      const buttonEl =\n",
              "        document.querySelector('#df-b8bee837-76fe-4789-b236-73e942371fe4 button.colab-df-convert');\n",
              "      buttonEl.style.display =\n",
              "        google.colab.kernel.accessAllowed ? 'block' : 'none';\n",
              "\n",
              "      async function convertToInteractive(key) {\n",
              "        const element = document.querySelector('#df-b8bee837-76fe-4789-b236-73e942371fe4');\n",
              "        const dataTable =\n",
              "          await google.colab.kernel.invokeFunction('convertToInteractive',\n",
              "                                                    [key], {});\n",
              "        if (!dataTable) return;\n",
              "\n",
              "        const docLinkHtml = 'Like what you see? Visit the ' +\n",
              "          '<a target=\"_blank\" href=https://colab.research.google.com/notebooks/data_table.ipynb>data table notebook</a>'\n",
              "          + ' to learn more about interactive tables.';\n",
              "        element.innerHTML = '';\n",
              "        dataTable['output_type'] = 'display_data';\n",
              "        await google.colab.output.renderOutput(dataTable, element);\n",
              "        const docLink = document.createElement('div');\n",
              "        docLink.innerHTML = docLinkHtml;\n",
              "        element.appendChild(docLink);\n",
              "      }\n",
              "    </script>\n",
              "  </div>\n",
              "\n",
              "\n",
              "<div id=\"df-892d99a3-70c6-4e9f-b87e-82a915c6690d\">\n",
              "  <button class=\"colab-df-quickchart\" onclick=\"quickchart('df-892d99a3-70c6-4e9f-b87e-82a915c6690d')\"\n",
              "            title=\"Suggest charts\"\n",
              "            style=\"display:none;\">\n",
              "\n",
              "<svg xmlns=\"http://www.w3.org/2000/svg\" height=\"24px\"viewBox=\"0 0 24 24\"\n",
              "     width=\"24px\">\n",
              "    <g>\n",
              "        <path d=\"M19 3H5c-1.1 0-2 .9-2 2v14c0 1.1.9 2 2 2h14c1.1 0 2-.9 2-2V5c0-1.1-.9-2-2-2zM9 17H7v-7h2v7zm4 0h-2V7h2v10zm4 0h-2v-4h2v4z\"/>\n",
              "    </g>\n",
              "</svg>\n",
              "  </button>\n",
              "\n",
              "<style>\n",
              "  .colab-df-quickchart {\n",
              "      --bg-color: #E8F0FE;\n",
              "      --fill-color: #1967D2;\n",
              "      --hover-bg-color: #E2EBFA;\n",
              "      --hover-fill-color: #174EA6;\n",
              "      --disabled-fill-color: #AAA;\n",
              "      --disabled-bg-color: #DDD;\n",
              "  }\n",
              "\n",
              "  [theme=dark] .colab-df-quickchart {\n",
              "      --bg-color: #3B4455;\n",
              "      --fill-color: #D2E3FC;\n",
              "      --hover-bg-color: #434B5C;\n",
              "      --hover-fill-color: #FFFFFF;\n",
              "      --disabled-bg-color: #3B4455;\n",
              "      --disabled-fill-color: #666;\n",
              "  }\n",
              "\n",
              "  .colab-df-quickchart {\n",
              "    background-color: var(--bg-color);\n",
              "    border: none;\n",
              "    border-radius: 50%;\n",
              "    cursor: pointer;\n",
              "    display: none;\n",
              "    fill: var(--fill-color);\n",
              "    height: 32px;\n",
              "    padding: 0;\n",
              "    width: 32px;\n",
              "  }\n",
              "\n",
              "  .colab-df-quickchart:hover {\n",
              "    background-color: var(--hover-bg-color);\n",
              "    box-shadow: 0 1px 2px rgba(60, 64, 67, 0.3), 0 1px 3px 1px rgba(60, 64, 67, 0.15);\n",
              "    fill: var(--button-hover-fill-color);\n",
              "  }\n",
              "\n",
              "  .colab-df-quickchart-complete:disabled,\n",
              "  .colab-df-quickchart-complete:disabled:hover {\n",
              "    background-color: var(--disabled-bg-color);\n",
              "    fill: var(--disabled-fill-color);\n",
              "    box-shadow: none;\n",
              "  }\n",
              "\n",
              "  .colab-df-spinner {\n",
              "    border: 2px solid var(--fill-color);\n",
              "    border-color: transparent;\n",
              "    border-bottom-color: var(--fill-color);\n",
              "    animation:\n",
              "      spin 1s steps(1) infinite;\n",
              "  }\n",
              "\n",
              "  @keyframes spin {\n",
              "    0% {\n",
              "      border-color: transparent;\n",
              "      border-bottom-color: var(--fill-color);\n",
              "      border-left-color: var(--fill-color);\n",
              "    }\n",
              "    20% {\n",
              "      border-color: transparent;\n",
              "      border-left-color: var(--fill-color);\n",
              "      border-top-color: var(--fill-color);\n",
              "    }\n",
              "    30% {\n",
              "      border-color: transparent;\n",
              "      border-left-color: var(--fill-color);\n",
              "      border-top-color: var(--fill-color);\n",
              "      border-right-color: var(--fill-color);\n",
              "    }\n",
              "    40% {\n",
              "      border-color: transparent;\n",
              "      border-right-color: var(--fill-color);\n",
              "      border-top-color: var(--fill-color);\n",
              "    }\n",
              "    60% {\n",
              "      border-color: transparent;\n",
              "      border-right-color: var(--fill-color);\n",
              "    }\n",
              "    80% {\n",
              "      border-color: transparent;\n",
              "      border-right-color: var(--fill-color);\n",
              "      border-bottom-color: var(--fill-color);\n",
              "    }\n",
              "    90% {\n",
              "      border-color: transparent;\n",
              "      border-bottom-color: var(--fill-color);\n",
              "    }\n",
              "  }\n",
              "</style>\n",
              "\n",
              "  <script>\n",
              "    async function quickchart(key) {\n",
              "      const quickchartButtonEl =\n",
              "        document.querySelector('#' + key + ' button');\n",
              "      quickchartButtonEl.disabled = true;  // To prevent multiple clicks.\n",
              "      quickchartButtonEl.classList.add('colab-df-spinner');\n",
              "      try {\n",
              "        const charts = await google.colab.kernel.invokeFunction(\n",
              "            'suggestCharts', [key], {});\n",
              "      } catch (error) {\n",
              "        console.error('Error during call to suggestCharts:', error);\n",
              "      }\n",
              "      quickchartButtonEl.classList.remove('colab-df-spinner');\n",
              "      quickchartButtonEl.classList.add('colab-df-quickchart-complete');\n",
              "    }\n",
              "    (() => {\n",
              "      let quickchartButtonEl =\n",
              "        document.querySelector('#df-892d99a3-70c6-4e9f-b87e-82a915c6690d button');\n",
              "      quickchartButtonEl.style.display =\n",
              "        google.colab.kernel.accessAllowed ? 'block' : 'none';\n",
              "    })();\n",
              "  </script>\n",
              "</div>\n",
              "    </div>\n",
              "  </div>\n"
            ]
          },
          "metadata": {},
          "execution_count": 293
        }
      ]
    },
    {
      "cell_type": "markdown",
      "id": "7a810bca",
      "metadata": {
        "id": "7a810bca"
      },
      "source": [
        "### Preview first 20 rows of the label encoded features"
      ]
    },
    {
      "cell_type": "code",
      "execution_count": null,
      "id": "54de3b3e",
      "metadata": {
        "ExecuteTime": {
          "start_time": "2023-11-29T04:16:15.131Z"
        },
        "colab": {
          "base_uri": "https://localhost:8080/"
        },
        "id": "54de3b3e",
        "outputId": "59cd5c22-8ecc-4360-c3b6-b35b71f1d419"
      },
      "outputs": [
        {
          "output_type": "stream",
          "name": "stdout",
          "text": [
            "-RECORD 0------------------------\n",
            " vendor_label             | 0.0  \n",
            " rate_type_label          | 0.0  \n",
            " store_and_fwd_flag_label | 0.0  \n",
            " pu_location_label        | 5.0  \n",
            " do_location_label        | 22.0 \n",
            " payment_type_label       | 0.0  \n",
            "-RECORD 1------------------------\n",
            " vendor_label             | 0.0  \n",
            " rate_type_label          | 0.0  \n",
            " store_and_fwd_flag_label | 0.0  \n",
            " pu_location_label        | 1.0  \n",
            " do_location_label        | 2.0  \n",
            " payment_type_label       | 0.0  \n",
            "-RECORD 2------------------------\n",
            " vendor_label             | 0.0  \n",
            " rate_type_label          | 0.0  \n",
            " store_and_fwd_flag_label | 0.0  \n",
            " pu_location_label        | 1.0  \n",
            " do_location_label        | 21.0 \n",
            " payment_type_label       | 0.0  \n",
            "-RECORD 3------------------------\n",
            " vendor_label             | 0.0  \n",
            " rate_type_label          | 0.0  \n",
            " store_and_fwd_flag_label | 0.0  \n",
            " pu_location_label        | 2.0  \n",
            " do_location_label        | 6.0  \n",
            " payment_type_label       | 1.0  \n",
            "-RECORD 4------------------------\n",
            " vendor_label             | 0.0  \n",
            " rate_type_label          | 0.0  \n",
            " store_and_fwd_flag_label | 0.0  \n",
            " pu_location_label        | 38.0 \n",
            " do_location_label        | 11.0 \n",
            " payment_type_label       | 1.0  \n",
            "-RECORD 5------------------------\n",
            " vendor_label             | 1.0  \n",
            " rate_type_label          | 0.0  \n",
            " store_and_fwd_flag_label | 0.0  \n",
            " pu_location_label        | 1.0  \n",
            " do_location_label        | 27.0 \n",
            " payment_type_label       | 0.0  \n",
            "-RECORD 6------------------------\n",
            " vendor_label             | 1.0  \n",
            " rate_type_label          | 0.0  \n",
            " store_and_fwd_flag_label | 0.0  \n",
            " pu_location_label        | 56.0 \n",
            " do_location_label        | 15.0 \n",
            " payment_type_label       | 1.0  \n",
            "-RECORD 7------------------------\n",
            " vendor_label             | 1.0  \n",
            " rate_type_label          | 0.0  \n",
            " store_and_fwd_flag_label | 0.0  \n",
            " pu_location_label        | 2.0  \n",
            " do_location_label        | 38.0 \n",
            " payment_type_label       | 2.0  \n",
            "-RECORD 8------------------------\n",
            " vendor_label             | 0.0  \n",
            " rate_type_label          | 0.0  \n",
            " store_and_fwd_flag_label | 0.0  \n",
            " pu_location_label        | 7.0  \n",
            " do_location_label        | 39.0 \n",
            " payment_type_label       | 0.0  \n",
            "-RECORD 9------------------------\n",
            " vendor_label             | 1.0  \n",
            " rate_type_label          | 0.0  \n",
            " store_and_fwd_flag_label | 0.0  \n",
            " pu_location_label        | 0.0  \n",
            " do_location_label        | 24.0 \n",
            " payment_type_label       | 0.0  \n",
            "-RECORD 10-----------------------\n",
            " vendor_label             | 0.0  \n",
            " rate_type_label          | 0.0  \n",
            " store_and_fwd_flag_label | 0.0  \n",
            " pu_location_label        | 18.0 \n",
            " do_location_label        | 74.0 \n",
            " payment_type_label       | 0.0  \n",
            "-RECORD 11-----------------------\n",
            " vendor_label             | 0.0  \n",
            " rate_type_label          | 0.0  \n",
            " store_and_fwd_flag_label | 0.0  \n",
            " pu_location_label        | 37.0 \n",
            " do_location_label        | 22.0 \n",
            " payment_type_label       | 0.0  \n",
            "-RECORD 12-----------------------\n",
            " vendor_label             | 1.0  \n",
            " rate_type_label          | 0.0  \n",
            " store_and_fwd_flag_label | 0.0  \n",
            " pu_location_label        | 22.0 \n",
            " do_location_label        | 2.0  \n",
            " payment_type_label       | 2.0  \n",
            "-RECORD 13-----------------------\n",
            " vendor_label             | 0.0  \n",
            " rate_type_label          | 0.0  \n",
            " store_and_fwd_flag_label | 0.0  \n",
            " pu_location_label        | 0.0  \n",
            " do_location_label        | 6.0  \n",
            " payment_type_label       | 1.0  \n",
            "-RECORD 14-----------------------\n",
            " vendor_label             | 1.0  \n",
            " rate_type_label          | 0.0  \n",
            " store_and_fwd_flag_label | 0.0  \n",
            " pu_location_label        | 18.0 \n",
            " do_location_label        | 13.0 \n",
            " payment_type_label       | 0.0  \n",
            "-RECORD 15-----------------------\n",
            " vendor_label             | 0.0  \n",
            " rate_type_label          | 0.0  \n",
            " store_and_fwd_flag_label | 0.0  \n",
            " pu_location_label        | 32.0 \n",
            " do_location_label        | 78.0 \n",
            " payment_type_label       | 0.0  \n",
            "-RECORD 16-----------------------\n",
            " vendor_label             | 0.0  \n",
            " rate_type_label          | 0.0  \n",
            " store_and_fwd_flag_label | 0.0  \n",
            " pu_location_label        | 5.0  \n",
            " do_location_label        | 10.0 \n",
            " payment_type_label       | 1.0  \n",
            "-RECORD 17-----------------------\n",
            " vendor_label             | 1.0  \n",
            " rate_type_label          | 0.0  \n",
            " store_and_fwd_flag_label | 0.0  \n",
            " pu_location_label        | 27.0 \n",
            " do_location_label        | 58.0 \n",
            " payment_type_label       | 0.0  \n",
            "-RECORD 18-----------------------\n",
            " vendor_label             | 0.0  \n",
            " rate_type_label          | 0.0  \n",
            " store_and_fwd_flag_label | 0.0  \n",
            " pu_location_label        | 9.0  \n",
            " do_location_label        | 78.0 \n",
            " payment_type_label       | 0.0  \n",
            "-RECORD 19-----------------------\n",
            " vendor_label             | 1.0  \n",
            " rate_type_label          | 0.0  \n",
            " store_and_fwd_flag_label | 0.0  \n",
            " pu_location_label        | 24.0 \n",
            " do_location_label        | 58.0 \n",
            " payment_type_label       | 0.0  \n",
            "only showing top 20 rows\n",
            "\n"
          ]
        }
      ],
      "source": [
        "modified_list = [item + \"_label\" for item in categorical_columns]\n",
        "\n",
        "df7.select(modified_list).show(vertical=True)"
      ]
    },
    {
      "cell_type": "markdown",
      "source": [],
      "metadata": {
        "id": "o2K2sjyZHGmR"
      },
      "id": "o2K2sjyZHGmR"
    },
    {
      "cell_type": "markdown",
      "id": "547d8fc3",
      "metadata": {
        "id": "547d8fc3"
      },
      "source": [
        "### Preview first 20 rows of your lookup table"
      ]
    },
    {
      "cell_type": "code",
      "execution_count": null,
      "id": "0e8374f2",
      "metadata": {
        "ExecuteTime": {
          "start_time": "2023-11-29T04:16:15.132Z"
        },
        "colab": {
          "base_uri": "https://localhost:8080/",
          "height": 904
        },
        "id": "0e8374f2",
        "outputId": "f6103a40-530e-424a-e6b0-da29cdce6f6a"
      },
      "outputs": [
        {
          "output_type": "execute_result",
          "data": {
            "text/plain": [
              "                               vendor              rate_type  \\\n",
              "0   Creative Mobile Technologies, LLC                    NaN   \n",
              "1                       VeriFone Inc.                    NaN   \n",
              "2                             Unknown                    NaN   \n",
              "3                                 NaN                    JFK   \n",
              "4                                 NaN          Standard rate   \n",
              "5                                 NaN                 Newark   \n",
              "6                                 NaN                Unknown   \n",
              "7                                 NaN        Negotiated fare   \n",
              "8                                 NaN  Nassau or Westchester   \n",
              "9                                 NaN             Group ride   \n",
              "10                                NaN                    NaN   \n",
              "11                                NaN                    NaN   \n",
              "12                                NaN                    NaN   \n",
              "13                                NaN                    NaN   \n",
              "14                                NaN                    NaN   \n",
              "15                                NaN                    NaN   \n",
              "16                                NaN                    NaN   \n",
              "17                                NaN                    NaN   \n",
              "18                                NaN                    NaN   \n",
              "19                                NaN                    NaN   \n",
              "\n",
              "   store_and_fwd_flag                            pu_location do_location  \\\n",
              "0                 NaN                                    NaN         NaN   \n",
              "1                 NaN                                    NaN         NaN   \n",
              "2                 NaN                                    NaN         NaN   \n",
              "3                 NaN                                    NaN         NaN   \n",
              "4                 NaN                                    NaN         NaN   \n",
              "5                 NaN                                    NaN         NaN   \n",
              "6                 NaN                                    NaN         NaN   \n",
              "7                 NaN                                    NaN         NaN   \n",
              "8                 NaN                                    NaN         NaN   \n",
              "9                 NaN                                    NaN         NaN   \n",
              "10                  Y                                    NaN         NaN   \n",
              "11                  N                                    NaN         NaN   \n",
              "12            Unknown                                    NaN         NaN   \n",
              "13                NaN            Brooklyn,Brooklyn Navy Yard         NaN   \n",
              "14                NaN              Manhattan,Highbridge Park         NaN   \n",
              "15                NaN  Staten Island,Arrochar/Fort Wadsworth         NaN   \n",
              "16                NaN                   Brooklyn,Brownsville         NaN   \n",
              "17                NaN       Queens,Springfield Gardens South         NaN   \n",
              "18                NaN                        Bronx,Bronxdale         NaN   \n",
              "19                NaN          Staten Island,Freshkills Park         NaN   \n",
              "\n",
              "   payment_type  vendor_label        feature_name  rate_type_label  \\\n",
              "0           NaN           1.0              vendor              NaN   \n",
              "1           NaN           0.0              vendor              NaN   \n",
              "2           NaN           2.0              vendor              NaN   \n",
              "3           NaN           NaN           rate_type              1.0   \n",
              "4           NaN           NaN           rate_type              0.0   \n",
              "5           NaN           NaN           rate_type              3.0   \n",
              "6           NaN           NaN           rate_type              5.0   \n",
              "7           NaN           NaN           rate_type              2.0   \n",
              "8           NaN           NaN           rate_type              4.0   \n",
              "9           NaN           NaN           rate_type              6.0   \n",
              "10          NaN           NaN  store_and_fwd_flag              NaN   \n",
              "11          NaN           NaN  store_and_fwd_flag              NaN   \n",
              "12          NaN           NaN  store_and_fwd_flag              NaN   \n",
              "13          NaN           NaN         pu_location              NaN   \n",
              "14          NaN           NaN         pu_location              NaN   \n",
              "15          NaN           NaN         pu_location              NaN   \n",
              "16          NaN           NaN         pu_location              NaN   \n",
              "17          NaN           NaN         pu_location              NaN   \n",
              "18          NaN           NaN         pu_location              NaN   \n",
              "19          NaN           NaN         pu_location              NaN   \n",
              "\n",
              "    store_and_fwd_flag_label  pu_location_label  do_location_label  \\\n",
              "0                        NaN                NaN                NaN   \n",
              "1                        NaN                NaN                NaN   \n",
              "2                        NaN                NaN                NaN   \n",
              "3                        NaN                NaN                NaN   \n",
              "4                        NaN                NaN                NaN   \n",
              "5                        NaN                NaN                NaN   \n",
              "6                        NaN                NaN                NaN   \n",
              "7                        NaN                NaN                NaN   \n",
              "8                        NaN                NaN                NaN   \n",
              "9                        NaN                NaN                NaN   \n",
              "10                       1.0                NaN                NaN   \n",
              "11                       0.0                NaN                NaN   \n",
              "12                       2.0                NaN                NaN   \n",
              "13                       NaN              180.0                NaN   \n",
              "14                       NaN              229.0                NaN   \n",
              "15                       NaN              232.0                NaN   \n",
              "16                       NaN              120.0                NaN   \n",
              "17                       NaN              107.0                NaN   \n",
              "18                       NaN              194.0                NaN   \n",
              "19                       NaN              251.0                NaN   \n",
              "\n",
              "    payment_type_label  \n",
              "0                  NaN  \n",
              "1                  NaN  \n",
              "2                  NaN  \n",
              "3                  NaN  \n",
              "4                  NaN  \n",
              "5                  NaN  \n",
              "6                  NaN  \n",
              "7                  NaN  \n",
              "8                  NaN  \n",
              "9                  NaN  \n",
              "10                 NaN  \n",
              "11                 NaN  \n",
              "12                 NaN  \n",
              "13                 NaN  \n",
              "14                 NaN  \n",
              "15                 NaN  \n",
              "16                 NaN  \n",
              "17                 NaN  \n",
              "18                 NaN  \n",
              "19                 NaN  "
            ],
            "text/html": [
              "\n",
              "  <div id=\"df-61534ab2-c6c2-4b6c-bc1e-f306b1957cca\" class=\"colab-df-container\">\n",
              "    <div>\n",
              "<style scoped>\n",
              "    .dataframe tbody tr th:only-of-type {\n",
              "        vertical-align: middle;\n",
              "    }\n",
              "\n",
              "    .dataframe tbody tr th {\n",
              "        vertical-align: top;\n",
              "    }\n",
              "\n",
              "    .dataframe thead th {\n",
              "        text-align: right;\n",
              "    }\n",
              "</style>\n",
              "<table border=\"1\" class=\"dataframe\">\n",
              "  <thead>\n",
              "    <tr style=\"text-align: right;\">\n",
              "      <th></th>\n",
              "      <th>vendor</th>\n",
              "      <th>rate_type</th>\n",
              "      <th>store_and_fwd_flag</th>\n",
              "      <th>pu_location</th>\n",
              "      <th>do_location</th>\n",
              "      <th>payment_type</th>\n",
              "      <th>vendor_label</th>\n",
              "      <th>feature_name</th>\n",
              "      <th>rate_type_label</th>\n",
              "      <th>store_and_fwd_flag_label</th>\n",
              "      <th>pu_location_label</th>\n",
              "      <th>do_location_label</th>\n",
              "      <th>payment_type_label</th>\n",
              "    </tr>\n",
              "  </thead>\n",
              "  <tbody>\n",
              "    <tr>\n",
              "      <th>0</th>\n",
              "      <td>Creative Mobile Technologies, LLC</td>\n",
              "      <td>NaN</td>\n",
              "      <td>NaN</td>\n",
              "      <td>NaN</td>\n",
              "      <td>NaN</td>\n",
              "      <td>NaN</td>\n",
              "      <td>1.0</td>\n",
              "      <td>vendor</td>\n",
              "      <td>NaN</td>\n",
              "      <td>NaN</td>\n",
              "      <td>NaN</td>\n",
              "      <td>NaN</td>\n",
              "      <td>NaN</td>\n",
              "    </tr>\n",
              "    <tr>\n",
              "      <th>1</th>\n",
              "      <td>VeriFone Inc.</td>\n",
              "      <td>NaN</td>\n",
              "      <td>NaN</td>\n",
              "      <td>NaN</td>\n",
              "      <td>NaN</td>\n",
              "      <td>NaN</td>\n",
              "      <td>0.0</td>\n",
              "      <td>vendor</td>\n",
              "      <td>NaN</td>\n",
              "      <td>NaN</td>\n",
              "      <td>NaN</td>\n",
              "      <td>NaN</td>\n",
              "      <td>NaN</td>\n",
              "    </tr>\n",
              "    <tr>\n",
              "      <th>2</th>\n",
              "      <td>Unknown</td>\n",
              "      <td>NaN</td>\n",
              "      <td>NaN</td>\n",
              "      <td>NaN</td>\n",
              "      <td>NaN</td>\n",
              "      <td>NaN</td>\n",
              "      <td>2.0</td>\n",
              "      <td>vendor</td>\n",
              "      <td>NaN</td>\n",
              "      <td>NaN</td>\n",
              "      <td>NaN</td>\n",
              "      <td>NaN</td>\n",
              "      <td>NaN</td>\n",
              "    </tr>\n",
              "    <tr>\n",
              "      <th>3</th>\n",
              "      <td>NaN</td>\n",
              "      <td>JFK</td>\n",
              "      <td>NaN</td>\n",
              "      <td>NaN</td>\n",
              "      <td>NaN</td>\n",
              "      <td>NaN</td>\n",
              "      <td>NaN</td>\n",
              "      <td>rate_type</td>\n",
              "      <td>1.0</td>\n",
              "      <td>NaN</td>\n",
              "      <td>NaN</td>\n",
              "      <td>NaN</td>\n",
              "      <td>NaN</td>\n",
              "    </tr>\n",
              "    <tr>\n",
              "      <th>4</th>\n",
              "      <td>NaN</td>\n",
              "      <td>Standard rate</td>\n",
              "      <td>NaN</td>\n",
              "      <td>NaN</td>\n",
              "      <td>NaN</td>\n",
              "      <td>NaN</td>\n",
              "      <td>NaN</td>\n",
              "      <td>rate_type</td>\n",
              "      <td>0.0</td>\n",
              "      <td>NaN</td>\n",
              "      <td>NaN</td>\n",
              "      <td>NaN</td>\n",
              "      <td>NaN</td>\n",
              "    </tr>\n",
              "    <tr>\n",
              "      <th>5</th>\n",
              "      <td>NaN</td>\n",
              "      <td>Newark</td>\n",
              "      <td>NaN</td>\n",
              "      <td>NaN</td>\n",
              "      <td>NaN</td>\n",
              "      <td>NaN</td>\n",
              "      <td>NaN</td>\n",
              "      <td>rate_type</td>\n",
              "      <td>3.0</td>\n",
              "      <td>NaN</td>\n",
              "      <td>NaN</td>\n",
              "      <td>NaN</td>\n",
              "      <td>NaN</td>\n",
              "    </tr>\n",
              "    <tr>\n",
              "      <th>6</th>\n",
              "      <td>NaN</td>\n",
              "      <td>Unknown</td>\n",
              "      <td>NaN</td>\n",
              "      <td>NaN</td>\n",
              "      <td>NaN</td>\n",
              "      <td>NaN</td>\n",
              "      <td>NaN</td>\n",
              "      <td>rate_type</td>\n",
              "      <td>5.0</td>\n",
              "      <td>NaN</td>\n",
              "      <td>NaN</td>\n",
              "      <td>NaN</td>\n",
              "      <td>NaN</td>\n",
              "    </tr>\n",
              "    <tr>\n",
              "      <th>7</th>\n",
              "      <td>NaN</td>\n",
              "      <td>Negotiated fare</td>\n",
              "      <td>NaN</td>\n",
              "      <td>NaN</td>\n",
              "      <td>NaN</td>\n",
              "      <td>NaN</td>\n",
              "      <td>NaN</td>\n",
              "      <td>rate_type</td>\n",
              "      <td>2.0</td>\n",
              "      <td>NaN</td>\n",
              "      <td>NaN</td>\n",
              "      <td>NaN</td>\n",
              "      <td>NaN</td>\n",
              "    </tr>\n",
              "    <tr>\n",
              "      <th>8</th>\n",
              "      <td>NaN</td>\n",
              "      <td>Nassau or Westchester</td>\n",
              "      <td>NaN</td>\n",
              "      <td>NaN</td>\n",
              "      <td>NaN</td>\n",
              "      <td>NaN</td>\n",
              "      <td>NaN</td>\n",
              "      <td>rate_type</td>\n",
              "      <td>4.0</td>\n",
              "      <td>NaN</td>\n",
              "      <td>NaN</td>\n",
              "      <td>NaN</td>\n",
              "      <td>NaN</td>\n",
              "    </tr>\n",
              "    <tr>\n",
              "      <th>9</th>\n",
              "      <td>NaN</td>\n",
              "      <td>Group ride</td>\n",
              "      <td>NaN</td>\n",
              "      <td>NaN</td>\n",
              "      <td>NaN</td>\n",
              "      <td>NaN</td>\n",
              "      <td>NaN</td>\n",
              "      <td>rate_type</td>\n",
              "      <td>6.0</td>\n",
              "      <td>NaN</td>\n",
              "      <td>NaN</td>\n",
              "      <td>NaN</td>\n",
              "      <td>NaN</td>\n",
              "    </tr>\n",
              "    <tr>\n",
              "      <th>10</th>\n",
              "      <td>NaN</td>\n",
              "      <td>NaN</td>\n",
              "      <td>Y</td>\n",
              "      <td>NaN</td>\n",
              "      <td>NaN</td>\n",
              "      <td>NaN</td>\n",
              "      <td>NaN</td>\n",
              "      <td>store_and_fwd_flag</td>\n",
              "      <td>NaN</td>\n",
              "      <td>1.0</td>\n",
              "      <td>NaN</td>\n",
              "      <td>NaN</td>\n",
              "      <td>NaN</td>\n",
              "    </tr>\n",
              "    <tr>\n",
              "      <th>11</th>\n",
              "      <td>NaN</td>\n",
              "      <td>NaN</td>\n",
              "      <td>N</td>\n",
              "      <td>NaN</td>\n",
              "      <td>NaN</td>\n",
              "      <td>NaN</td>\n",
              "      <td>NaN</td>\n",
              "      <td>store_and_fwd_flag</td>\n",
              "      <td>NaN</td>\n",
              "      <td>0.0</td>\n",
              "      <td>NaN</td>\n",
              "      <td>NaN</td>\n",
              "      <td>NaN</td>\n",
              "    </tr>\n",
              "    <tr>\n",
              "      <th>12</th>\n",
              "      <td>NaN</td>\n",
              "      <td>NaN</td>\n",
              "      <td>Unknown</td>\n",
              "      <td>NaN</td>\n",
              "      <td>NaN</td>\n",
              "      <td>NaN</td>\n",
              "      <td>NaN</td>\n",
              "      <td>store_and_fwd_flag</td>\n",
              "      <td>NaN</td>\n",
              "      <td>2.0</td>\n",
              "      <td>NaN</td>\n",
              "      <td>NaN</td>\n",
              "      <td>NaN</td>\n",
              "    </tr>\n",
              "    <tr>\n",
              "      <th>13</th>\n",
              "      <td>NaN</td>\n",
              "      <td>NaN</td>\n",
              "      <td>NaN</td>\n",
              "      <td>Brooklyn,Brooklyn Navy Yard</td>\n",
              "      <td>NaN</td>\n",
              "      <td>NaN</td>\n",
              "      <td>NaN</td>\n",
              "      <td>pu_location</td>\n",
              "      <td>NaN</td>\n",
              "      <td>NaN</td>\n",
              "      <td>180.0</td>\n",
              "      <td>NaN</td>\n",
              "      <td>NaN</td>\n",
              "    </tr>\n",
              "    <tr>\n",
              "      <th>14</th>\n",
              "      <td>NaN</td>\n",
              "      <td>NaN</td>\n",
              "      <td>NaN</td>\n",
              "      <td>Manhattan,Highbridge Park</td>\n",
              "      <td>NaN</td>\n",
              "      <td>NaN</td>\n",
              "      <td>NaN</td>\n",
              "      <td>pu_location</td>\n",
              "      <td>NaN</td>\n",
              "      <td>NaN</td>\n",
              "      <td>229.0</td>\n",
              "      <td>NaN</td>\n",
              "      <td>NaN</td>\n",
              "    </tr>\n",
              "    <tr>\n",
              "      <th>15</th>\n",
              "      <td>NaN</td>\n",
              "      <td>NaN</td>\n",
              "      <td>NaN</td>\n",
              "      <td>Staten Island,Arrochar/Fort Wadsworth</td>\n",
              "      <td>NaN</td>\n",
              "      <td>NaN</td>\n",
              "      <td>NaN</td>\n",
              "      <td>pu_location</td>\n",
              "      <td>NaN</td>\n",
              "      <td>NaN</td>\n",
              "      <td>232.0</td>\n",
              "      <td>NaN</td>\n",
              "      <td>NaN</td>\n",
              "    </tr>\n",
              "    <tr>\n",
              "      <th>16</th>\n",
              "      <td>NaN</td>\n",
              "      <td>NaN</td>\n",
              "      <td>NaN</td>\n",
              "      <td>Brooklyn,Brownsville</td>\n",
              "      <td>NaN</td>\n",
              "      <td>NaN</td>\n",
              "      <td>NaN</td>\n",
              "      <td>pu_location</td>\n",
              "      <td>NaN</td>\n",
              "      <td>NaN</td>\n",
              "      <td>120.0</td>\n",
              "      <td>NaN</td>\n",
              "      <td>NaN</td>\n",
              "    </tr>\n",
              "    <tr>\n",
              "      <th>17</th>\n",
              "      <td>NaN</td>\n",
              "      <td>NaN</td>\n",
              "      <td>NaN</td>\n",
              "      <td>Queens,Springfield Gardens South</td>\n",
              "      <td>NaN</td>\n",
              "      <td>NaN</td>\n",
              "      <td>NaN</td>\n",
              "      <td>pu_location</td>\n",
              "      <td>NaN</td>\n",
              "      <td>NaN</td>\n",
              "      <td>107.0</td>\n",
              "      <td>NaN</td>\n",
              "      <td>NaN</td>\n",
              "    </tr>\n",
              "    <tr>\n",
              "      <th>18</th>\n",
              "      <td>NaN</td>\n",
              "      <td>NaN</td>\n",
              "      <td>NaN</td>\n",
              "      <td>Bronx,Bronxdale</td>\n",
              "      <td>NaN</td>\n",
              "      <td>NaN</td>\n",
              "      <td>NaN</td>\n",
              "      <td>pu_location</td>\n",
              "      <td>NaN</td>\n",
              "      <td>NaN</td>\n",
              "      <td>194.0</td>\n",
              "      <td>NaN</td>\n",
              "      <td>NaN</td>\n",
              "    </tr>\n",
              "    <tr>\n",
              "      <th>19</th>\n",
              "      <td>NaN</td>\n",
              "      <td>NaN</td>\n",
              "      <td>NaN</td>\n",
              "      <td>Staten Island,Freshkills Park</td>\n",
              "      <td>NaN</td>\n",
              "      <td>NaN</td>\n",
              "      <td>NaN</td>\n",
              "      <td>pu_location</td>\n",
              "      <td>NaN</td>\n",
              "      <td>NaN</td>\n",
              "      <td>251.0</td>\n",
              "      <td>NaN</td>\n",
              "      <td>NaN</td>\n",
              "    </tr>\n",
              "  </tbody>\n",
              "</table>\n",
              "</div>\n",
              "    <div class=\"colab-df-buttons\">\n",
              "\n",
              "  <div class=\"colab-df-container\">\n",
              "    <button class=\"colab-df-convert\" onclick=\"convertToInteractive('df-61534ab2-c6c2-4b6c-bc1e-f306b1957cca')\"\n",
              "            title=\"Convert this dataframe to an interactive table.\"\n",
              "            style=\"display:none;\">\n",
              "\n",
              "  <svg xmlns=\"http://www.w3.org/2000/svg\" height=\"24px\" viewBox=\"0 -960 960 960\">\n",
              "    <path d=\"M120-120v-720h720v720H120Zm60-500h600v-160H180v160Zm220 220h160v-160H400v160Zm0 220h160v-160H400v160ZM180-400h160v-160H180v160Zm440 0h160v-160H620v160ZM180-180h160v-160H180v160Zm440 0h160v-160H620v160Z\"/>\n",
              "  </svg>\n",
              "    </button>\n",
              "\n",
              "  <style>\n",
              "    .colab-df-container {\n",
              "      display:flex;\n",
              "      gap: 12px;\n",
              "    }\n",
              "\n",
              "    .colab-df-convert {\n",
              "      background-color: #E8F0FE;\n",
              "      border: none;\n",
              "      border-radius: 50%;\n",
              "      cursor: pointer;\n",
              "      display: none;\n",
              "      fill: #1967D2;\n",
              "      height: 32px;\n",
              "      padding: 0 0 0 0;\n",
              "      width: 32px;\n",
              "    }\n",
              "\n",
              "    .colab-df-convert:hover {\n",
              "      background-color: #E2EBFA;\n",
              "      box-shadow: 0px 1px 2px rgba(60, 64, 67, 0.3), 0px 1px 3px 1px rgba(60, 64, 67, 0.15);\n",
              "      fill: #174EA6;\n",
              "    }\n",
              "\n",
              "    .colab-df-buttons div {\n",
              "      margin-bottom: 4px;\n",
              "    }\n",
              "\n",
              "    [theme=dark] .colab-df-convert {\n",
              "      background-color: #3B4455;\n",
              "      fill: #D2E3FC;\n",
              "    }\n",
              "\n",
              "    [theme=dark] .colab-df-convert:hover {\n",
              "      background-color: #434B5C;\n",
              "      box-shadow: 0px 1px 3px 1px rgba(0, 0, 0, 0.15);\n",
              "      filter: drop-shadow(0px 1px 2px rgba(0, 0, 0, 0.3));\n",
              "      fill: #FFFFFF;\n",
              "    }\n",
              "  </style>\n",
              "\n",
              "    <script>\n",
              "      const buttonEl =\n",
              "        document.querySelector('#df-61534ab2-c6c2-4b6c-bc1e-f306b1957cca button.colab-df-convert');\n",
              "      buttonEl.style.display =\n",
              "        google.colab.kernel.accessAllowed ? 'block' : 'none';\n",
              "\n",
              "      async function convertToInteractive(key) {\n",
              "        const element = document.querySelector('#df-61534ab2-c6c2-4b6c-bc1e-f306b1957cca');\n",
              "        const dataTable =\n",
              "          await google.colab.kernel.invokeFunction('convertToInteractive',\n",
              "                                                    [key], {});\n",
              "        if (!dataTable) return;\n",
              "\n",
              "        const docLinkHtml = 'Like what you see? Visit the ' +\n",
              "          '<a target=\"_blank\" href=https://colab.research.google.com/notebooks/data_table.ipynb>data table notebook</a>'\n",
              "          + ' to learn more about interactive tables.';\n",
              "        element.innerHTML = '';\n",
              "        dataTable['output_type'] = 'display_data';\n",
              "        await google.colab.output.renderOutput(dataTable, element);\n",
              "        const docLink = document.createElement('div');\n",
              "        docLink.innerHTML = docLinkHtml;\n",
              "        element.appendChild(docLink);\n",
              "      }\n",
              "    </script>\n",
              "  </div>\n",
              "\n",
              "\n",
              "<div id=\"df-2ba48b92-c1a0-4b73-b444-e9b58ac7955d\">\n",
              "  <button class=\"colab-df-quickchart\" onclick=\"quickchart('df-2ba48b92-c1a0-4b73-b444-e9b58ac7955d')\"\n",
              "            title=\"Suggest charts\"\n",
              "            style=\"display:none;\">\n",
              "\n",
              "<svg xmlns=\"http://www.w3.org/2000/svg\" height=\"24px\"viewBox=\"0 0 24 24\"\n",
              "     width=\"24px\">\n",
              "    <g>\n",
              "        <path d=\"M19 3H5c-1.1 0-2 .9-2 2v14c0 1.1.9 2 2 2h14c1.1 0 2-.9 2-2V5c0-1.1-.9-2-2-2zM9 17H7v-7h2v7zm4 0h-2V7h2v10zm4 0h-2v-4h2v4z\"/>\n",
              "    </g>\n",
              "</svg>\n",
              "  </button>\n",
              "\n",
              "<style>\n",
              "  .colab-df-quickchart {\n",
              "      --bg-color: #E8F0FE;\n",
              "      --fill-color: #1967D2;\n",
              "      --hover-bg-color: #E2EBFA;\n",
              "      --hover-fill-color: #174EA6;\n",
              "      --disabled-fill-color: #AAA;\n",
              "      --disabled-bg-color: #DDD;\n",
              "  }\n",
              "\n",
              "  [theme=dark] .colab-df-quickchart {\n",
              "      --bg-color: #3B4455;\n",
              "      --fill-color: #D2E3FC;\n",
              "      --hover-bg-color: #434B5C;\n",
              "      --hover-fill-color: #FFFFFF;\n",
              "      --disabled-bg-color: #3B4455;\n",
              "      --disabled-fill-color: #666;\n",
              "  }\n",
              "\n",
              "  .colab-df-quickchart {\n",
              "    background-color: var(--bg-color);\n",
              "    border: none;\n",
              "    border-radius: 50%;\n",
              "    cursor: pointer;\n",
              "    display: none;\n",
              "    fill: var(--fill-color);\n",
              "    height: 32px;\n",
              "    padding: 0;\n",
              "    width: 32px;\n",
              "  }\n",
              "\n",
              "  .colab-df-quickchart:hover {\n",
              "    background-color: var(--hover-bg-color);\n",
              "    box-shadow: 0 1px 2px rgba(60, 64, 67, 0.3), 0 1px 3px 1px rgba(60, 64, 67, 0.15);\n",
              "    fill: var(--button-hover-fill-color);\n",
              "  }\n",
              "\n",
              "  .colab-df-quickchart-complete:disabled,\n",
              "  .colab-df-quickchart-complete:disabled:hover {\n",
              "    background-color: var(--disabled-bg-color);\n",
              "    fill: var(--disabled-fill-color);\n",
              "    box-shadow: none;\n",
              "  }\n",
              "\n",
              "  .colab-df-spinner {\n",
              "    border: 2px solid var(--fill-color);\n",
              "    border-color: transparent;\n",
              "    border-bottom-color: var(--fill-color);\n",
              "    animation:\n",
              "      spin 1s steps(1) infinite;\n",
              "  }\n",
              "\n",
              "  @keyframes spin {\n",
              "    0% {\n",
              "      border-color: transparent;\n",
              "      border-bottom-color: var(--fill-color);\n",
              "      border-left-color: var(--fill-color);\n",
              "    }\n",
              "    20% {\n",
              "      border-color: transparent;\n",
              "      border-left-color: var(--fill-color);\n",
              "      border-top-color: var(--fill-color);\n",
              "    }\n",
              "    30% {\n",
              "      border-color: transparent;\n",
              "      border-left-color: var(--fill-color);\n",
              "      border-top-color: var(--fill-color);\n",
              "      border-right-color: var(--fill-color);\n",
              "    }\n",
              "    40% {\n",
              "      border-color: transparent;\n",
              "      border-right-color: var(--fill-color);\n",
              "      border-top-color: var(--fill-color);\n",
              "    }\n",
              "    60% {\n",
              "      border-color: transparent;\n",
              "      border-right-color: var(--fill-color);\n",
              "    }\n",
              "    80% {\n",
              "      border-color: transparent;\n",
              "      border-right-color: var(--fill-color);\n",
              "      border-bottom-color: var(--fill-color);\n",
              "    }\n",
              "    90% {\n",
              "      border-color: transparent;\n",
              "      border-bottom-color: var(--fill-color);\n",
              "    }\n",
              "  }\n",
              "</style>\n",
              "\n",
              "  <script>\n",
              "    async function quickchart(key) {\n",
              "      const quickchartButtonEl =\n",
              "        document.querySelector('#' + key + ' button');\n",
              "      quickchartButtonEl.disabled = true;  // To prevent multiple clicks.\n",
              "      quickchartButtonEl.classList.add('colab-df-spinner');\n",
              "      try {\n",
              "        const charts = await google.colab.kernel.invokeFunction(\n",
              "            'suggestCharts', [key], {});\n",
              "      } catch (error) {\n",
              "        console.error('Error during call to suggestCharts:', error);\n",
              "      }\n",
              "      quickchartButtonEl.classList.remove('colab-df-spinner');\n",
              "      quickchartButtonEl.classList.add('colab-df-quickchart-complete');\n",
              "    }\n",
              "    (() => {\n",
              "      let quickchartButtonEl =\n",
              "        document.querySelector('#df-2ba48b92-c1a0-4b73-b444-e9b58ac7955d button');\n",
              "      quickchartButtonEl.style.display =\n",
              "        google.colab.kernel.accessAllowed ? 'block' : 'none';\n",
              "    })();\n",
              "  </script>\n",
              "</div>\n",
              "    </div>\n",
              "  </div>\n"
            ]
          },
          "metadata": {},
          "execution_count": 295
        }
      ],
      "source": [
        "unique_values_dict.head(20)"
      ]
    },
    {
      "cell_type": "markdown",
      "id": "fcdd7830",
      "metadata": {
        "id": "fcdd7830"
      },
      "source": [
        "### Load the cleaned PySpark df to a parquet file and the lookup table to a csv file."
      ]
    },
    {
      "cell_type": "code",
      "execution_count": null,
      "id": "90fbdb44",
      "metadata": {
        "ExecuteTime": {
          "start_time": "2023-11-29T04:16:15.133Z"
        },
        "id": "90fbdb44"
      },
      "outputs": [],
      "source": [
        "df7.write.parquet(\"/content/drive/My Drive/yellow_tripdata_2018-08_cleaned.parquet\" , mode=\"overwrite\")"
      ]
    },
    {
      "cell_type": "code",
      "source": [
        "df7.printSchema()"
      ],
      "metadata": {
        "colab": {
          "base_uri": "https://localhost:8080/"
        },
        "id": "Ra34CI-82um-",
        "outputId": "f64c7294-801d-4e68-ff9b-5e80c2c5f2a6"
      },
      "id": "Ra34CI-82um-",
      "execution_count": null,
      "outputs": [
        {
          "output_type": "stream",
          "name": "stdout",
          "text": [
            "root\n",
            " |-- tpep_pickup_datetime: timestamp (nullable = true)\n",
            " |-- tpep_dropoff_datetime: timestamp (nullable = true)\n",
            " |-- passenger_count: double (nullable = true)\n",
            " |-- trip_distance: double (nullable = true)\n",
            " |-- fare_amount: double (nullable = true)\n",
            " |-- extra: double (nullable = true)\n",
            " |-- mta_tax: double (nullable = true)\n",
            " |-- tip_amount: double (nullable = true)\n",
            " |-- tolls_amount: double (nullable = true)\n",
            " |-- improvement_surcharge: double (nullable = true)\n",
            " |-- total_amount: double (nullable = true)\n",
            " |-- congestion_surcharge: integer (nullable = true)\n",
            " |-- airport_fee: integer (nullable = true)\n",
            " |-- pickup_timestamp: timestamp (nullable = true)\n",
            " |-- dropoff_timestamp: timestamp (nullable = true)\n",
            " |-- trip_duration: string (nullable = true)\n",
            " |-- day_of_week: integer (nullable = true)\n",
            " |-- is_weekend: integer (nullable = true)\n",
            " |-- week_number: integer (nullable = true)\n",
            " |-- day_of_month: integer (nullable = true)\n",
            " |-- route: string (nullable = false)\n",
            " |-- vendor_label: double (nullable = false)\n",
            " |-- rate_type_label: double (nullable = false)\n",
            " |-- store_and_fwd_flag_label: double (nullable = false)\n",
            " |-- pu_location_label: double (nullable = false)\n",
            " |-- do_location_label: double (nullable = false)\n",
            " |-- payment_type_label: double (nullable = false)\n",
            "\n"
          ]
        }
      ]
    },
    {
      "cell_type": "code",
      "execution_count": null,
      "id": "57d45165",
      "metadata": {
        "ExecuteTime": {
          "start_time": "2023-11-29T04:16:15.133Z"
        },
        "id": "57d45165"
      },
      "outputs": [],
      "source": [
        "unique_values_dict.to_csv(\"/content/drive/My Drive/lookup.csv\", index=False)"
      ]
    },
    {
      "cell_type": "markdown",
      "id": "846f97ac",
      "metadata": {
        "id": "846f97ac"
      },
      "source": [
        "## Bonus - Load the cleaned parquet file and lookup table into a Postgres database.\n",
        "\n",
        "Note that if you decide to do the bonus, you must include not only your notebook but the docker-compose.yaml file aswell."
      ]
    },
    {
      "cell_type": "code",
      "execution_count": null,
      "id": "f0334636",
      "metadata": {
        "ExecuteTime": {
          "start_time": "2023-11-29T04:16:15.134Z"
        },
        "id": "f0334636"
      },
      "outputs": [],
      "source": [
        "engine = create_engine(\"postgresql://abdullahahmadfouad:password123@db:5432/yellow_taxi_8_18_postgres\")\n",
        "engine.connect()\n",
        "lookup_df.to_sql(\"lookup_yellow_taxi_8_18\", engine, if_exists=\"append\", index=False)"
      ]
    },
    {
      "cell_type": "code",
      "execution_count": null,
      "id": "substantial-quarter",
      "metadata": {
        "ExecuteTime": {
          "start_time": "2023-11-29T04:16:15.135Z"
        },
        "id": "substantial-quarter"
      },
      "outputs": [],
      "source": [
        "postgres_properties = {\n",
        "    \"driver\": \"org.postgresql.Driver\",\n",
        "    \"url\": \"jdbc:postgresql://db:5432/yellow_taxi_8_18_postgres\",\n",
        "    \"user\": \"abdullahahmadfouad\",\n",
        "    \"password\": \"password123\",\n",
        "    \"dbtable\": \"yellow_taxi_8_18_postgres_cleaned\",\n",
        "}\n",
        "encoded_df.write.jdbc(url=postgres_properties[\"url\"],table=postgres_properties[\"dbtable\"],mode=\"append\",properties=postgres_properties)"
      ]
    },
    {
      "cell_type": "markdown",
      "id": "598c8f58",
      "metadata": {
        "id": "598c8f58"
      },
      "source": [
        "### Screenshot of the table existing in the database and a simple query such as `select count(*) from table_name` or `select * from table_name limit 10`\n",
        "\n",
        "(You can just copy paste the screenshots in the markdown cells below)"
      ]
    },
    {
      "cell_type": "markdown",
      "id": "e4082ea3",
      "metadata": {
        "id": "e4082ea3"
      },
      "source": []
    },
    {
      "cell_type": "markdown",
      "id": "d6329f74",
      "metadata": {
        "id": "d6329f74"
      },
      "source": []
    },
    {
      "cell_type": "markdown",
      "id": "e30ecdbd",
      "metadata": {
        "id": "e30ecdbd"
      },
      "source": []
    }
  ],
  "metadata": {
    "kernelspec": {
      "display_name": "Python 3",
      "language": "python",
      "name": "python3"
    },
    "language_info": {
      "codemirror_mode": {
        "name": "ipython",
        "version": 3
      },
      "file_extension": ".py",
      "mimetype": "text/x-python",
      "name": "python",
      "nbconvert_exporter": "python",
      "pygments_lexer": "ipython3",
      "version": "3.8.5"
    },
    "toc": {
      "base_numbering": 1,
      "nav_menu": {},
      "number_sections": true,
      "sideBar": true,
      "skip_h1_title": false,
      "title_cell": "Table of Contents",
      "title_sidebar": "Contents",
      "toc_cell": false,
      "toc_position": {},
      "toc_section_display": true,
      "toc_window_display": false
    },
    "colab": {
      "provenance": []
    }
  },
  "nbformat": 4,
  "nbformat_minor": 5
}